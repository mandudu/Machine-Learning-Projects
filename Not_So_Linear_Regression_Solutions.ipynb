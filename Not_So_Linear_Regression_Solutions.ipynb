{
  "nbformat": 4,
  "nbformat_minor": 0,
  "metadata": {
    "accelerator": "GPU",
    "colab": {
      "provenance": [],
      "include_colab_link": true
    },
    "kernelspec": {
      "display_name": "Python 3",
      "name": "python3"
    }
  },
  "cells": [
    {
      "cell_type": "markdown",
      "metadata": {
        "id": "view-in-github",
        "colab_type": "text"
      },
      "source": [
        "<a href=\"https://colab.research.google.com/github/mandudu/Machine-Learning-Projects/blob/main/Not_So_Linear_Regression_Solutions.ipynb\" target=\"_parent\"><img src=\"https://colab.research.google.com/assets/colab-badge.svg\" alt=\"Open In Colab\"/></a>"
      ]
    },
    {
      "cell_type": "markdown",
      "metadata": {
        "id": "tMce8muBqXQP"
      },
      "source": [
        "# Not So Linear Regression (50 Total Points)\n",
        "\n",
        "Often times linear regression is presented in terms of input features, which results in linear models (shocker!). Linear models are an already powerful technique, but they are super-charged when constructed atop of *non*linear features. Arguebly, the constrution of linear models with nonlinear features is one of the strongest (and most used) tricks in ML and is core to neural networks. Below we explore how the expressiveness of linear models increases based on features. This highlights the importance of the question, \"*Linear in what?*\"\n"
      ]
    },
    {
      "cell_type": "markdown",
      "metadata": {
        "id": "oM_8ELnJq_wd"
      },
      "source": [
        "## Data and Setup\n",
        "\n",
        "First, it may help to enable GPUs for the notebook:\n",
        "\n",
        "- Navigate to Edit→Notebook Settings\n",
        "- select GPU from the Hardware Accelerator drop-down\n",
        "\n",
        "Next, confirm that we can connect to the GPU with tensorflow.\n",
        "\n",
        "*(Note, it is fine if you can not connect to GPU, it just might take a little longer to run.)*"
      ]
    },
    {
      "cell_type": "code",
      "metadata": {
        "id": "sXnDmXR7RDr2",
        "colab": {
          "base_uri": "https://localhost:8080/"
        },
        "outputId": "84faa01d-e109-48c9-95da-cf2bd9a1b829"
      },
      "source": [
        "%tensorflow_version 2.x\n",
        "import tensorflow as tf\n",
        "device_name = tf.test.gpu_device_name()\n",
        "if device_name != '/device:GPU:0':\n",
        "  raise SystemError('GPU device not found')\n",
        "print('Found GPU at: {}'.format(device_name))"
      ],
      "execution_count": null,
      "outputs": [
        {
          "output_type": "stream",
          "text": [
            "Found GPU at: /device:GPU:0\n"
          ],
          "name": "stdout"
        }
      ]
    },
    {
      "cell_type": "markdown",
      "metadata": {
        "id": "fVf6_-ZENH02"
      },
      "source": [
        "Let's import additional packages of use."
      ]
    },
    {
      "cell_type": "code",
      "metadata": {
        "id": "k1jRaUQWZIvL"
      },
      "source": [
        "%matplotlib inline\n",
        "import numpy as np\n",
        "import matplotlib.pyplot as plt"
      ],
      "execution_count": null,
      "outputs": []
    },
    {
      "cell_type": "markdown",
      "metadata": {
        "id": "WkEPeSpHr7q6"
      },
      "source": [
        "**Generate data.**\n",
        "\n",
        "Generate $N$ data samples of input (1d) features $X$ and outputs $Y$, which shall depend non-linearly on $X$."
      ]
    },
    {
      "cell_type": "code",
      "metadata": {
        "id": "V1L3HcMVG4Mk"
      },
      "source": [
        "d = 1\n",
        "N = 2000\n",
        "\n",
        "X = tf.random.normal((N, 1))\n",
        "\n",
        "def f(x):\n",
        "  return tf.exp(0.5*x)+2.0*x*tf.sin(4.0*x)\n",
        "\n",
        "sigma = 0.5\n",
        "Y = f(X) + sigma*tf.random.normal((N,1))"
      ],
      "execution_count": null,
      "outputs": []
    },
    {
      "cell_type": "markdown",
      "metadata": {
        "id": "szWfLZoa2Evk"
      },
      "source": [
        "Visualize the data."
      ]
    },
    {
      "cell_type": "code",
      "metadata": {
        "colab": {
          "base_uri": "https://localhost:8080/",
          "height": 282
        },
        "id": "mQONBPh0kyKj",
        "outputId": "a45d5db1-0e8d-45d6-8775-600354572914"
      },
      "source": [
        "plt.scatter(X, Y)"
      ],
      "execution_count": null,
      "outputs": [
        {
          "output_type": "execute_result",
          "data": {
            "text/plain": [
              "<matplotlib.collections.PathCollection at 0x7ff9c06b8a50>"
            ]
          },
          "metadata": {
            "tags": []
          },
          "execution_count": 4
        },
        {
          "output_type": "display_data",
          "data": {
            "image/png": "[encoded data removed]",
            "text/plain": [
              "<Figure size 432x288 with 1 Axes>"
            ]
          },
          "metadata": {
            "tags": [],
            "needs_background": "light"
          }
        }
      ]
    },
    {
      "cell_type": "markdown",
      "metadata": {
        "id": "_efNJC9z2gic"
      },
      "source": [
        "## Linear Regression (17 Points)\n",
        "**(12 Points)** First let's implement a function that returns the linear coefficients for ordinary least squares regression."
      ]
    },
    {
      "cell_type": "code",
      "metadata": {
        "id": "4o_7GVC63Vjv"
      },
      "source": [
        "def linear_coefs(X, Y):\n",
        "  \"\"\"\n",
        "  Args:\n",
        "    X: N x d matrix of input features\n",
        "    Y: N x 1 matrix (column vector) of output response\n",
        "\n",
        "  Returns:\n",
        "    Beta: d x 1 matrix of linear coefficients\n",
        "  \"\"\"\n",
        "  # TODO: here you are restricted (have to) use tf.linalg.solve for the assignment\n",
        "  beta = None  # REMOVE\n",
        "  beta = tf.linalg.solve(tf.matmul(X, X, transpose_a=True), tf.matmul(X, Y, transpose_a=True))\n",
        "  return beta"
      ],
      "execution_count": null,
      "outputs": []
    },
    {
      "cell_type": "markdown",
      "metadata": {
        "id": "Wylo7J6p41T_"
      },
      "source": [
        "**(5 Points)** Clearly, the groundtruth relationship is not a linear one. However, let's see what the best linear fit is for this data."
      ]
    },
    {
      "cell_type": "code",
      "metadata": {
        "id": "O7pEOnXN5Jfu"
      },
      "source": [
        "# TODO: be sure to account for an intercept term\n",
        "# beta_linear = linear_coefs(...)\n",
        "beta_linear = None  # REMOVE\n",
        "Y_linear = None  # REMOVE, should be the predicted Ys using linear model on training data\n",
        "\n",
        "X_ones = tf.concat((X, tf.ones((N, 1))), 1)\n",
        "beta_linear = linear_coefs(X_ones, Y)\n",
        "Y_linear = tf.matmul(X_ones, beta_linear)"
      ],
      "execution_count": null,
      "outputs": []
    },
    {
      "cell_type": "markdown",
      "metadata": {
        "id": "ezkPSHALK4Vg"
      },
      "source": [
        "Let's plot the linear predictions."
      ]
    },
    {
      "cell_type": "code",
      "metadata": {
        "colab": {
          "base_uri": "https://localhost:8080/",
          "height": 282
        },
        "id": "Pe0qg8vOK3GA",
        "outputId": "2ea22751-b821-48f5-b45e-f7d710430070"
      },
      "source": [
        "plt.scatter(X, Y)\n",
        "plt.scatter(X, Y_linear)"
      ],
      "execution_count": null,
      "outputs": [
        {
          "output_type": "execute_result",
          "data": {
            "text/plain": [
              "<matplotlib.collections.PathCollection at 0x7ffa1990fad0>"
            ]
          },
          "metadata": {
            "tags": []
          },
          "execution_count": 7
        },
        {
          "output_type": "display_data",
          "data": {
            "image/png": "[encoded data removed]",
            "text/plain": [
              "<Figure size 432x288 with 1 Axes>"
            ]
          },
          "metadata": {
            "tags": [],
            "needs_background": "light"
          }
        }
      ]
    },
    {
      "cell_type": "markdown",
      "metadata": {
        "id": "q9CN1CP1N7yT"
      },
      "source": [
        "As you can see this captures some trend, but leaves a lot to be desired."
      ]
    },
    {
      "cell_type": "markdown",
      "metadata": {
        "id": "2dgHmL4hOwby"
      },
      "source": [
        "## Polynomial Regression (16 Points)\n",
        "Let's turn back time and revist an algebra course classic: polynomials! Recall that polynomial are made up of monomials, which are products of variable (features) take to powers. With 1d data, these are terms like $x^2$, $x^7$, etc. When we fit a polynomial, we are looking for $\\beta$ coeficients to $\\hat{f}(x) = \\sum_{j=1}^m \\beta_j x^j + \\beta_0$. Does this look familiar? (It should!)"
      ]
    },
    {
      "cell_type": "markdown",
      "metadata": {
        "id": "CoHdk2n4Q8HQ"
      },
      "source": [
        "**(16 points)** Let's fit a polynomial using OLS. In particular, let's fit a polynomial of order $8$."
      ]
    },
    {
      "cell_type": "code",
      "metadata": {
        "id": "Us7UJFH6QtHd"
      },
      "source": [
        "# First generate the features corresponding to a 8th order 1d polynomial.\n",
        "# You'll lose points :( if you do not do it in a simple, single line\n",
        "X_poly = None  # REMOVE\n",
        "# Lets get the corresponding polynomial coefficients\n",
        "beta_poly = None  # REMOVE\n",
        "# Finally lets plot the estimates with the polynomial\n",
        "Y_poly = None  # REMOVE\n",
        "\n",
        "X_poly = tf.concat([tf.pow(X, j) for j in range(9)], 1)\n",
        "beta_poly = linear_coefs(X_poly, Y)\n",
        "Y_poly = tf.matmul(X_poly, beta_poly)"
      ],
      "execution_count": null,
      "outputs": []
    },
    {
      "cell_type": "markdown",
      "metadata": {
        "id": "W-MYzvEETFSP"
      },
      "source": [
        "Let's plot the polynomial estimates."
      ]
    },
    {
      "cell_type": "code",
      "metadata": {
        "colab": {
          "base_uri": "https://localhost:8080/",
          "height": 282
        },
        "id": "oT7POzOJSkmM",
        "outputId": "acfd6ab2-9150-47c8-dab6-cb0f4a690db7"
      },
      "source": [
        "plt.scatter(X, Y)\n",
        "plt.scatter(X, Y_poly)"
      ],
      "execution_count": null,
      "outputs": [
        {
          "output_type": "execute_result",
          "data": {
            "text/plain": [
              "<matplotlib.collections.PathCollection at 0x7ff9c0083f90>"
            ]
          },
          "metadata": {
            "tags": []
          },
          "execution_count": 13
        },
        {
          "output_type": "display_data",
          "data": {
            "image/png": "[encoded data removed]",
            "text/plain": [
              "<Figure size 432x288 with 1 Axes>"
            ]
          },
          "metadata": {
            "tags": [],
            "needs_background": "light"
          }
        }
      ]
    },
    {
      "cell_type": "markdown",
      "metadata": {
        "id": "SJ133lthTXpL"
      },
      "source": [
        "A much better fit! In the future we'll discuss how to choose hyperparemeters to our model (such as the order of polynomials). For now, just play around with the order to see how estimates vary."
      ]
    },
    {
      "cell_type": "markdown",
      "metadata": {
        "id": "Vbj0230YUYsF"
      },
      "source": [
        "## Random-Feature Regression (10 Points)\n",
        "Lastly, we'll consider a seemingly crazy idea: performing linear regression over *random* features. That is, we shall fit a model $\\hat{f}(x) = \\sum_{j=1}^m \\beta_j \\phi_j(x)$. Where $\\phi_j(x)$ are randomly constructed features. In particular, we shall construct $\\phi_j(x) = \\cos(\\omega_j^T x + b_j)$ where $\\omega_j$ was drawn from a Gaussian, and $b_j$ from a Uniform distribution. Note that $(\\omega_j, b_j)$s are draw randomly once, and are then *held fixed* for the remainer of their usage. (Think about what goes wrong if they are redrawn randomly each time.) Although this seems adhoc, a linear model on such random features are actually approximating a very flexible class of functions (see https://people.eecs.berkeley.edu/~brecht/papers/07.rah.rec.nips.pdf)."
      ]
    },
    {
      "cell_type": "code",
      "metadata": {
        "id": "lPJSZFLelvXT"
      },
      "source": [
        "def rand_feats(X, D=1000, gamma=1.0):\n",
        "  \"\"\"\n",
        "  Args:\n",
        "    X: N x d matrix of input features\n",
        "    D: Integer, number of random features\n",
        "    gamma: Float, scale of frequencies\n",
        "\n",
        "  Returns:\n",
        "    Phis: N x D matrix of random features\n",
        "  \"\"\"\n",
        "  d = X.get_shape()[1]\n",
        "  tf.random.set_seed(112358)  # Why is this needed?\n",
        "  Ws = gamma*tf.random.normal((d, D))\n",
        "  bs = 2.0*np.pi*tf.random.uniform((1, D))\n",
        "  XWs = tf.matmul(X, Ws)\n",
        "  return tf.cos(XWs+bs)"
      ],
      "execution_count": null,
      "outputs": []
    },
    {
      "cell_type": "markdown",
      "metadata": {
        "id": "rRkrd0HMxbDo"
      },
      "source": [
        "**(7 Points)** Get predictions based on the random features above."
      ]
    },
    {
      "cell_type": "code",
      "metadata": {
        "id": "Nn9ilgHBlsQY"
      },
      "source": [
        "# Get the Y estimates using random features. (Default D, gamma is fine.)\n",
        "Y_randfeats = None  # REMOVE\n",
        "\n",
        "phi = rand_feats(X)\n",
        "beta_poly = linear_coefs(phi, Y)\n",
        "Y_randfeats = tf.matmul(phi, beta_poly)"
      ],
      "execution_count": null,
      "outputs": []
    },
    {
      "cell_type": "code",
      "metadata": {
        "colab": {
          "base_uri": "https://localhost:8080/",
          "height": 282
        },
        "id": "AHsv4E6Tn1en",
        "outputId": "e65b4832-b801-463d-c121-7aab61576b63"
      },
      "source": [
        "plt.scatter(X, Y)\n",
        "plt.scatter(X, Y_randfeats)"
      ],
      "execution_count": null,
      "outputs": [
        {
          "output_type": "execute_result",
          "data": {
            "text/plain": [
              "<matplotlib.collections.PathCollection at 0x7ff96dae3d10>"
            ]
          },
          "metadata": {
            "tags": []
          },
          "execution_count": 37
        },
        {
          "output_type": "display_data",
          "data": {
            "image/png": "[encoded data removed]",
            "text/plain": [
              "<Figure size 432x288 with 1 Axes>"
            ]
          },
          "metadata": {
            "tags": [],
            "needs_background": "light"
          }
        }
      ]
    },
    {
      "cell_type": "markdown",
      "metadata": {
        "id": "0qaLZFmC0sxY"
      },
      "source": [
        "Not bad for a bunch of random features! This, along with kernels, are pretty powerful concepts. I highly recommend looking further into random features."
      ]
    },
    {
      "cell_type": "markdown",
      "metadata": {
        "id": "7ZN0M7M4yQaA"
      },
      "source": [
        "**(10 Points)** Why is it necessary to set the random seed `tf.random.set_seed(112358)` in the function `rand_feats` above. (Think about what would go wrong if we do not do this.) "
      ]
    },
    {
      "cell_type": "markdown",
      "metadata": {
        "id": "5KkgnYVS0A7j"
      },
      "source": [
        "*TODO: Answer*"
      ]
    },
    {
      "cell_type": "markdown",
      "metadata": {
        "id": "VKIiSAqC41ht"
      },
      "source": [
        "If the seed were not set, then everytime we computed random features we would get different frequencies/offsets $\\{(\\omega_j, b_j)\\}_{j=1}^D$. Note that above we specified that the frequencies are drawn randomly *once*, and are held fixed after. This makes sense, because when we learn $\\beta$ coefficients they must be applied to the same features. That is $\\beta_j$ is applied to $\\cos(\\omega_j^T x + b_j)$ in $\\hat{f}(x) = \\sum_{j=1}^m \\beta_j \\cos(\\omega_j^T x + b_j)$. Applying $\\beta_j$ to another feature $\\cos(\\omega_j^{\\,\\prime\\, T} x + b_j^{\\,\\prime})$ would result in a completely different estimate that was not fit to our data (and will not perform well). This would make it impossible to use `rand_feats` to get the random features/estimates on future unseen data (we would have had to returned and saved `Ws` and `bs`)."
      ]
    }
  ]
}