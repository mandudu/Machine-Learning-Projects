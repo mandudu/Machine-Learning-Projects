{
  "cells": [
    {
      "cell_type": "markdown",
      "metadata": {
        "id": "view-in-github",
        "colab_type": "text"
      },
      "source": [
        "<a href=\"https://colab.research.google.com/github/mandudu/Machine-Learning-Projects/blob/main/Naive_Bayes_vs_Logistic_Regression_James_Park.ipynb\" target=\"_parent\"><img src=\"https://colab.research.google.com/assets/colab-badge.svg\" alt=\"Open In Colab\"/></a>"
      ]
    },
    {
      "cell_type": "markdown",
      "metadata": {
        "id": "tMce8muBqXQP"
      },
      "source": [
        "# Naive Bayes vs Logistic Regression (40 Points)\n",
        "\n",
        "In this notebook we shall explore the difference between a generative model, Naive Bayes, and a discriminative model, Logistic Regression. *Avoid loops throughtout* (i.e. write efficient code)."
      ]
    },
    {
      "cell_type": "markdown",
      "metadata": {
        "id": "oM_8ELnJq_wd"
      },
      "source": [
        "## Data and Setup\n",
        "\n",
        "First, it may help to enable GPUs for the notebook:\n",
        "\n",
        "- Navigate to Edit→Notebook Settings\n",
        "- select GPU from the Hardware Accelerator drop-down\n",
        "\n",
        "Next, confirm that we can connect to the GPU with tensorflow.\n",
        "\n",
        "*(Note, it is fine if you can not connect to GPU, it just might take a little longer to run.)*"
      ]
    },
    {
      "cell_type": "code",
      "execution_count": null,
      "metadata": {
        "colab": {
          "base_uri": "https://localhost:8080/"
        },
        "id": "sXnDmXR7RDr2",
        "outputId": "45a7d478-5cf4-4903-fd19-e330c7bcd3eb"
      },
      "outputs": [
        {
          "output_type": "stream",
          "name": "stdout",
          "text": [
            "Colab only includes TensorFlow 2.x; %tensorflow_version has no effect.\n",
            "Found GPU at: /device:GPU:0\n"
          ]
        }
      ],
      "source": [
        "%tensorflow_version 2.x\n",
        "import tensorflow as tf\n",
        "device_name = tf.test.gpu_device_name()\n",
        "if device_name != '/device:GPU:0':\n",
        "  raise SystemError('GPU device not found')\n",
        "print('Found GPU at: {}'.format(device_name))"
      ]
    },
    {
      "cell_type": "markdown",
      "metadata": {
        "id": "fVf6_-ZENH02"
      },
      "source": [
        "Let's import additional packages of use."
      ]
    },
    {
      "cell_type": "code",
      "execution_count": null,
      "metadata": {
        "id": "k1jRaUQWZIvL"
      },
      "outputs": [],
      "source": [
        "%matplotlib inline\n",
        "import numpy as np \n",
        "import matplotlib.pyplot as plt\n",
        "import scipy.stats\n",
        "import pandas as pd"
      ]
    },
    {
      "cell_type": "markdown",
      "metadata": {
        "id": "uWbZYsDSIBSY"
      },
      "source": [
        "**Reading data**\n",
        "\n",
        "Let's use some helper functions to read in pregenerated 2d data for classification. `X` and `Y` will be `N x 2` input features and `N x 1` binary output labels, respectively."
      ]
    },
    {
      "cell_type": "code",
      "execution_count": null,
      "metadata": {
        "id": "cUPIkr_WBiAX"
      },
      "outputs": [],
      "source": [
        "def read_dataset(url):\n",
        "  data = pd.read_csv(url).to_numpy()\n",
        "  X = data[:, :-1]\n",
        "  Y = data[:, -1, None]\n",
        "  return X.astype(np.float32), Y.astype(np.float32)"
      ]
    },
    {
      "cell_type": "code",
      "execution_count": null,
      "metadata": {
        "id": "VxfJwdVnIly2"
      },
      "outputs": [],
      "source": []
    },
    {
      "cell_type": "code",
      "execution_count": null,
      "metadata": {
        "id": "SMzJZzqvDnCi"
      },
      "outputs": [],
      "source": [
        "url1 = 'https://raw.githubusercontent.com/lupalab/comp755_f21/main/hw3_1.csv'\n",
        "X, Y = read_dataset(url1)"
      ]
    },
    {
      "cell_type": "markdown",
      "metadata": {
        "id": "JhiJs7YfOAP1"
      },
      "source": [
        "## Naive Bayes\n",
        "First we shall estimate a *generative* model using Naive Bayes and Gaussians."
      ]
    },
    {
      "cell_type": "markdown",
      "metadata": {
        "id": "sWZxMP1NIauY"
      },
      "source": [
        "**Estimating Naive Bayes Parameters (5 Points)**\n",
        "\n",
        "As in the write up, we will use a Naive Bayes assumption with Gaussian distributions (with unit variance and unknown means). Estimate the parameters of this Naive Bayes Model below."
      ]
    },
    {
      "cell_type": "code",
      "execution_count": null,
      "metadata": {
        "id": "xM8g2cu8KOTD"
      },
      "outputs": [],
      "source": [
        "def estimate_naive_bayes(X, Y):\n",
        "  \"\"\"\n",
        "  Estimates the paramters of the Gaussian Naive Bayes model.\n",
        "  Args:\n",
        "    X: Nxd matrix of input features\n",
        "    Y: Nx1 vector of output labels\n",
        "  Returns:\n",
        "    pi1: real, class prior probability for class 1\n",
        "    mu1: 1 x d vector, parameters for class 1\n",
        "    mu0: 1 x d vector, parameters for class 0\n",
        "  \"\"\"\n",
        "  #mu1 equals to the mean of x input features that contains an output of 1\n",
        "  #mu0 equals to the mean of x input features that contains an output of 0\n",
        "  #pi1 equals to len(Y = 1)/N\n",
        "  #pi1, mu1, mu0 = None, None, None  # TODO\n",
        "  dfx = pd.DataFrame(X)\n",
        "  dfy = pd.DataFrame(Y, columns=['Y'])\n",
        "  pi1 = np.count_nonzero(dfy)/dfy.shape[0]\n",
        "\n",
        "  dfxy = pd.concat([dfx,dfy],axis=1)\n",
        "  mu1 = dfxy.loc[dfxy['Y']==1].mean().to_numpy()\n",
        "  mu1 = np.delete(mu1, -1)\n",
        "  mu0 = dfxy.loc[dfxy['Y']==0].mean().to_numpy()\n",
        "  mu0 = np.delete(mu0, -1)\n",
        "\n",
        "  return pi1, mu1, mu0"
      ]
    },
    {
      "cell_type": "code",
      "execution_count": null,
      "metadata": {
        "id": "-zQcalvbKn57"
      },
      "outputs": [],
      "source": [
        "pi1, mu1, mu0 = estimate_naive_bayes(X, Y)"
      ]
    },
    {
      "cell_type": "code",
      "source": [],
      "metadata": {
        "id": "4C_jsX6dNAtN"
      },
      "execution_count": null,
      "outputs": []
    },
    {
      "cell_type": "code",
      "source": [],
      "metadata": {
        "id": "v5_Zq1s1NAg7"
      },
      "execution_count": null,
      "outputs": []
    },
    {
      "cell_type": "markdown",
      "metadata": {
        "id": "rVtIXhOsJq7A"
      },
      "source": [
        "**Generating with the Generative Model (3 Points)**\n",
        "\n",
        "We saw in class that Naive Bayes is a generative approach. We will use this model to now generatie synthetic data."
      ]
    },
    {
      "cell_type": "code",
      "execution_count": null,
      "metadata": {
        "id": "STUlfy35LX-F"
      },
      "outputs": [],
      "source": [
        "def generate_naive_bayes(N, pi1, mu1, mu0):\n",
        "  \"\"\"\n",
        "  Generate synthetic samples according to Naive Bayes model\n",
        "  Args:\n",
        "    N: int, number of samples to generate\n",
        "    pi1: real, class prior probability for class 1\n",
        "    mu1: 1 x d vector, parameters for class 1\n",
        "    mu0: 1 x d vector, parameters for class 0\n",
        "  Returns:\n",
        "    X: Nxd matrix, synthetic input feature samples\n",
        "    Y: Nx1 vector, synthetic output label samples\n",
        "  \"\"\"\n",
        "  # X, Y = None, None  # TODO\n",
        "  no_Y = int(pi1*N)\n",
        "  Y_1 =np.array([np.ones(no_Y)]).T\n",
        "  Y_0 =np.array([np.zeros(int(N-Y_1.shape[0]))]).T\n",
        "  Y = np.concatenate((Y_1,Y_0))\n",
        "  X_0 = np.random.multivariate_normal(mu0, np.eye(2), 200-Y_1.shape[0])\n",
        "  X_1 = np.random.multivariate_normal(mu1, np.eye(2), Y_1.shape[0])\n",
        "  X =  np.concatenate((X_1,X_0))\n",
        "  return X, Y"
      ]
    },
    {
      "cell_type": "code",
      "execution_count": null,
      "metadata": {
        "colab": {
          "base_uri": "https://localhost:8080/",
          "height": 282
        },
        "id": "Xn8EdIOuKECg",
        "outputId": "ec7d7434-395c-49f5-ac8c-829954e05068"
      },
      "outputs": [
        {
          "output_type": "execute_result",
          "data": {
            "text/plain": [
              "<matplotlib.collections.PathCollection at 0x7fc328cdc990>"
            ]
          },
          "metadata": {},
          "execution_count": 221
        },
        {
          "output_type": "display_data",
          "data": {
            "text/plain": [
              "<Figure size 432x288 with 1 Axes>"
            ],
            "image/png": "[encoded data removed]"
          },
          "metadata": {
            "needs_background": "light"
          }
        }
      ],
      "source": [
        "tXhat, Yhat = generate_naive_bayes(200, pi1, mu1, mu0)\n",
        "plt.scatter(X[np.equal(Y[:,-1], 0), 0], X[np.equal(Y[:,-1], 0), 1])\n",
        "plt.scatter(X[np.equal(Y[:,-1], 1), 0], X[np.equal(Y[:,-1], 1), 1], marker='+')\n",
        "plt.scatter(Xhat[np.equal(Yhat[:,-1], 0), 0], Xhat[np.equal(Yhat[:,-1], 0), 1])\n",
        "plt.scatter(Xhat[np.equal(Yhat[:,-1], 1), 0], Xhat[np.equal(Yhat[:,-1], 1), 1], marker='+')"
      ]
    },
    {
      "cell_type": "markdown",
      "metadata": {
        "id": "h27-uHi9LBvW"
      },
      "source": [
        "Should look pretty good! (I.e. the generated data should match up with the training data.)"
      ]
    },
    {
      "cell_type": "markdown",
      "metadata": {
        "id": "ZqjOYYoXLXmO"
      },
      "source": [
        "**Predicting with the Generative Model (2 Points)**\n",
        "\n",
        "In addition to generating synthetic data, we can also use the generative model to make predictions. We implement this below."
      ]
    },
    {
      "cell_type": "code",
      "execution_count": null,
      "metadata": {
        "id": "GGqa1iVaLHv0"
      },
      "outputs": [],
      "source": [
        "def naive_bayes_pred(x, pi1, mu1, mu0):\n",
        "  \"\"\"\n",
        "  Make predictions using Naive Bayes model.\n",
        "  Args:\n",
        "    x: mxd matrix of input feature vectors for m queries\n",
        "    pi1: real, class prior probability for class 1\n",
        "    mu1: 1 x d vector, parameters for class 1\n",
        "    mu0: 1 x d vector, parameters for class 0\n",
        "  Returns:\n",
        "    Yhat: mx1 vector of floats in {0.0, 1.0}, predicted output label samples\n",
        "  \"\"\"\n",
        "  p0 = pdf(mu0,1, x, (1-pi1))\n",
        "  p1 = pdf(mu1,1, x, pi1)\n",
        "  Yhat = np.reshape(np.array([0 if i<0 else 1 for i in (p1-p0)]),(-1,1))\n",
        "  return Yhat\n",
        "\n",
        "def pdf(mean, var,x, prior):\n",
        "  numerator = np.exp(-(x-mean)**2/(2*var)).prod(axis=1)*prior\n",
        "  denominator = np.sqrt(2*np.pi*var)\n",
        "  return numerator/denominator"
      ]
    },
    {
      "cell_type": "markdown",
      "metadata": {
        "id": "Sr9PI3vSNZe1"
      },
      "source": [
        "**Plot Decision Boundary (1 Point)**\n",
        "\n",
        "Next we'll use this helper function to plot our decision surface."
      ]
    },
    {
      "cell_type": "code",
      "execution_count": null,
      "metadata": {
        "id": "7pw7MacHNh6C"
      },
      "outputs": [],
      "source": [
        "def plot_grid(pred_func):\n",
        "  # Reduce the number of grid points if there is a memory issue\n",
        "  gridx = np.float32(np.linspace(-6.0, 6.0, 100))\n",
        "  gridx1, gridx2 = np.meshgrid(gridx, gridx)\n",
        "  g1 = np.reshape(gridx1, [-1, 1])\n",
        "  g2 = np.reshape(gridx2, [-1, 1])\n",
        "  func_vals = pred_func(np.concatenate((g1, g2), -1))\n",
        "  plt.contourf(gridx1, gridx2, np.reshape(func_vals, gridx1.shape), 64)\n",
        "  plt.xlabel('x1')\n",
        "  plt.ylabel('x2')\n",
        "  cbar = plt.colorbar()\n",
        "  cbar.solids.set_edgecolor('face')\n",
        "  plt.draw()\n",
        "  return func_vals, g1, g2"
      ]
    },
    {
      "cell_type": "code",
      "execution_count": null,
      "metadata": {
        "colab": {
          "base_uri": "https://localhost:8080/",
          "height": 300
        },
        "id": "wHh67Wd9H6ge",
        "outputId": "a3c0f501-7911-4841-a70a-e93b59fb38aa"
      },
      "outputs": [
        {
          "output_type": "execute_result",
          "data": {
            "text/plain": [
              "<matplotlib.collections.PathCollection at 0x7fc320cbea50>"
            ]
          },
          "metadata": {},
          "execution_count": 224
        },
        {
          "output_type": "display_data",
          "data": {
            "text/plain": [
              "<Figure size 432x288 with 2 Axes>"
            ],
            "image/png": "[encoded data removed]"
          },
          "metadata": {
            "needs_background": "light"
          }
        }
      ],
      "source": [
        "plot_grid(lambda x: naive_bayes_pred(x, pi1, mu1, mu0))  # TODO (hint, use naive_bayes_pred)\n",
        "plt.scatter(X[np.equal(Y[:,-1], 0), 0], X[np.equal(Y[:,-1], 0), 1])\n",
        "plt.scatter(X[np.equal(Y[:,-1], 1), 0], X[np.equal(Y[:,-1], 1), 1], marker='+')"
      ]
    },
    {
      "cell_type": "markdown",
      "metadata": {
        "id": "GCmsTR-VOXkW"
      },
      "source": [
        "**Computing Accuracy (2 Points)**\n",
        "\n",
        "Lastly, we shall compute the accuracy of predictions with a helper function."
      ]
    },
    {
      "cell_type": "code",
      "execution_count": null,
      "metadata": {
        "id": "rjOueAOgzq-e"
      },
      "outputs": [],
      "source": [
        "def accuracy(X, Y, pred_func):\n",
        "  \"\"\"\n",
        "  Helper function that returns the accuracy of a prediction function \n",
        "  for given data.\n",
        "  Args:\n",
        "    X: Nxd matrix of input features\n",
        "    Y: Nx1 vector of true output labels\n",
        "    pred_func: function that takes in X and outputs Nx1 vector of predictions\n",
        "  Returns:\n",
        "    accu: float, accuracy of pred_func on (X, Y)\n",
        "  \"\"\"\n",
        "  accu = np.sum(np.equal(Y, 1) == pred_func(X))/pred_func(X).shape[0]\n",
        "  return accu"
      ]
    },
    {
      "cell_type": "code",
      "execution_count": null,
      "metadata": {
        "colab": {
          "base_uri": "https://localhost:8080/"
        },
        "id": "LpXjJJFY0Da_",
        "outputId": "e8f3339e-50b0-4d02-a838-efb342677620"
      },
      "outputs": [
        {
          "output_type": "stream",
          "name": "stdout",
          "text": [
            "Naive Bayes Accuracy on Training Data: 0.9296482412060302\n"
          ]
        }
      ],
      "source": [
        "accu = accuracy(X, Y, lambda x:naive_bayes_pred(x,pi1,mu1,mu0))  # TODO: get accuracy for naive bayes\n",
        "# lambda functions are often useful!\n",
        "print('Naive Bayes Accuracy on Training Data: {}'.format(accu))"
      ]
    },
    {
      "cell_type": "markdown",
      "metadata": {
        "id": "Dsn_mV3xOrRk"
      },
      "source": [
        "## Logistic Regression\n",
        "We now move on to training a *discriminative* model, logistic regression."
      ]
    },
    {
      "cell_type": "markdown",
      "metadata": {
        "id": "0b1I1C6gUzAK"
      },
      "source": [
        "**Predictions with Logistic Regression (2 Points)**\n",
        "\n",
        "First we shall implement how to make predictions using input features `x` and parameters `beta`."
      ]
    },
    {
      "cell_type": "markdown",
      "metadata": {
        "id": "RDOQkXZxr7cv"
      },
      "source": [
        "x.shape"
      ]
    },
    {
      "cell_type": "code",
      "execution_count": null,
      "metadata": {
        "id": "eoh9AcqvxSMf"
      },
      "outputs": [],
      "source": [
        "import cv2\n",
        "import numpy as np\n",
        "from scipy.ndimage.morphology import distance_transform_edt\n",
        "import matplotlib.pyplot as plt\n",
        "# from functions import load_image\n",
        "def load_image(name):\n",
        "    img = cv2.imread(name)\n",
        "    img = cv2.cvtColor(img, cv2.COLOR_BGR2GRAY)\n",
        "    # img = cv2.resize(img, (64, 48), interpolation = cv2.INTER_AREA)\n",
        "    return img\n",
        "def get_distance_transform(img_rgb):\n",
        "    \"\"\"\n",
        "    Get distance to the closest background pixel for an RGB image\n",
        "    Input:\n",
        "        img_rgb: np.array , HxWx3 RGB image\n",
        "    Output:\n",
        "        dist: np.array , HxWx1 distance image\n",
        "        each pixel’s intensity is proportional\n",
        "        to its distance to the closest background\n",
        "        pixel scaled to [0..255] for plotting\n",
        "    \"\"\"\n",
        "    # Threshold the image: any value above 0 maps into 255\n",
        "    thresh = cv2.threshold(img_rgb , 0, 255, cv2.THRESH_BINARY)[1]\n",
        "    # Collapse the color dimension\n",
        "    thresh = thresh.any(axis=2)\n",
        "    # Pad to make sure the border is treated as background np.pad(thresh , 1)\n",
        "    thresh = np.pad(thresh, 1)\n",
        "    # Get distance transform\n",
        "    dist = distance_transform_edt(thresh)[1:-1, 1:-1]\n",
        "    # HxW -> HxWx1\n",
        "    dist = dist[:, :, None]\n",
        "    return dist / dist.max() * 255.0\n",
        "# Feature detection and description\n",
        "img1_rgb = cv2.imread(\"/content/yosemite1.jpg\")\n",
        "img2_rgb = cv2.imread(\"/content/yosemite2.jpg\")\n",
        "img1 = cv2.cvtColor(img1_rgb, cv2.COLOR_BGR2GRAY)\n",
        "img2 = cv2.cvtColor(img2_rgb, cv2.COLOR_BGR2GRAY)\n",
        "sift = cv2.xfeatures2d.SIFT_create()\n",
        "key_point1, descriptor1 = sift.detectAndCompute(img1,None)\n",
        "key_point2, descriptor2 = sift.detectAndCompute(img2,None)\n",
        "img1_result=cv2.drawKeypoints(img1_rgb,key_point1,None,flags=cv2.DRAW_MATCHES_FLAGS_DRAW_RICH_KEYPOINTS)\n",
        "cv2.imwrite('keypoints.png', img1_result)\n",
        "# Feature matching and image alignment\n",
        "matcher = cv2.BFMatcher(cv2.NORM_L2,crossCheck=True)\n",
        "matches = matcher.match(descriptor1,descriptor2)\n",
        "matches = sorted(matches, key = lambda x:x.distance)\n",
        "res = cv2.drawMatches(img1_rgb,key_point1,img2_rgb,key_point2,matches[:10],None,flags=2)\n",
        "cv2.imwrite(\"top10_matching.png\",res)\n",
        "pts1 = np.array([key_point1[m.queryIdx].pt for m in matches]).reshape(-1, 2)\n",
        "pts2 = np.array([key_point2[m.trainIdx].pt for m in matches]).reshape(-1, 2)\n",
        "M, _ = cv2.findHomography(pts2, pts1, cv2.RANSAC)      #img2 to img1 Matrix\n",
        "result = cv2.warpPerspective(img2_rgb, M, (img1_rgb.shape[1] + img2_rgb.shape[1], img1_rgb.shape[0]))\n",
        "result = result/2\n",
        "result[0:img1_rgb.shape[0], 0:img1_rgb.shape[1]] += img1_rgb/2\n",
        "cv2.imwrite(\"warp1.png\",result)\n",
        "result = cv2.warpPerspective(img2_rgb, M, (img1_rgb.shape[1] + img2_rgb.shape[1], img1_rgb.shape[0]))\n",
        "result[0:img1_rgb.shape[0], 0:img1_rgb.shape[1]] = img1_rgb\n",
        "cv2.imwrite(\"warp2.png\",result)\n",
        "\n",
        "result2 = cv2.warpPerspective(img2_rgb, M, (img1_rgb.shape[1] + img2_rgb.shape[1], img1_rgb.shape[0]))\n",
        "result2 = result2\n",
        "result1 = np.zeros(result2.shape)\n",
        "result1[0:img1_rgb.shape[0], 0:img1_rgb.shape[1]] = img1_rgb\n",
        "distance1 = get_distance_transform(result1)\n",
        "distance2 = get_distance_transform(result2)\n",
        "\n",
        "w1 = distance1 / np.maximum((distance1+distance2),1)\n",
        "w2 = distance2 / np.maximum((distance1+distance2),1)\n",
        "result = result1*w1 + result2*w2\n",
        "result = result.astype(\"uint8\")\n",
        "cv2.imwrite(\"weight1.png\",w1*255)\n",
        "cv2.imwrite(\"weight2.png\",w2*255)\n",
        "cv2.imwrite(\"weight1+2.png\",(w1+w2)*255)\n",
        "cv2.imwrite(\"warp3.png\",result)"
      ]
    },
    {
      "cell_type": "markdown",
      "metadata": {
        "id": "aAy5X4H2X0HO"
      },
      "source": [
        "**Log Likelihood (8 Points)**\n",
        "\n",
        "Next we shall compute the mean loglikelihood according to the logistic model: $\\frac{1}{N} \\sum_{i=1}^N \\log\\,p_{\\beta}(Y_i \\mid X_i)$."
      ]
    },
    {
      "cell_type": "code",
      "execution_count": null,
      "metadata": {
        "id": "0f4ce6U4NrkC"
      },
      "outputs": [],
      "source": [
        "def mean_logistic_loglikelihood(X, Y, beta):\n",
        "  \"\"\"\n",
        "  Returns mean loglikelihood.\n",
        "  Args:\n",
        "    X: Nxd matrix of input features\n",
        "    Y: Nx1 vector of true output labels\n",
        "    beta: (d+1)x1 vector of model parameters where beta[-1, 0] is intercept term\n",
        "  Returns:\n",
        "    mll: scalar of mean loglikelihood according to beta for data points\n",
        "  \"\"\"\n",
        "  # No loops allowed!\n",
        "  # You must use tf.nn.softplus!\n",
        "  # Do not used any library implementations of cross entropy!\n",
        "  X = tf.concat((X, np.ones((X.shape[0],1))),1)\n",
        "  log = Y*(-tf.nn.softplus(tf.matmul(-X,beta)))+(1-Y)*(-tf.nn.softplus(tf.matmul(X,beta)))\n",
        "  mll = tf.math.reduce_sum(log)/X.shape[0]\n",
        "  return mll"
      ]
    },
    {
      "cell_type": "markdown",
      "metadata": {
        "id": "EcNKBd8csDkG"
      },
      "source": [
        "**Compute Logistic Regression Gradient (3 Points)**\n",
        "\n",
        "Next, we shall implement the gradient to the `mean_logistic_loglikelihood` as a function of `beta`. We'll compare to using Tensorflow to compute this gradient automagically; but first, let's roll up our sleeves! (*Note: the gradient is derived in the slides, no need to rederive!*)"
      ]
    },
    {
      "cell_type": "code",
      "execution_count": null,
      "metadata": {
        "id": "6MuBgMNeSFAz"
      },
      "outputs": [],
      "source": [
        "def mean_logistic_loglikelihood_gradient(X, Y, beta):\n",
        "  \"\"\"\n",
        "  Returns the gradient of mean loglikelihood loss \n",
        "  (i.e. negative mean likelihood) w.r.t. beta.\n",
        "  Args:\n",
        "    X: Nxd matrix of input features\n",
        "    Y: Nx1 vector of true output labels\n",
        "    beta: (d+1)x1 vector of current model parameters \n",
        "      where beta[-1, 0] is intercept term\n",
        "  Returns:\n",
        "    beta_grad: (d+1)x1 vector of gradients (partial derivates) evaluated at beta\n",
        "  \"\"\"\n",
        "  # No loops allowed!\n",
        "  n = X.shape[0]\n",
        "  X = tf.concat((X,tf.ones((n,1))),1)\n",
        "  grad = Y-1/(1+np.exp(tf.matmul(-X, beta)))\n",
        "  beta_grad = -tf.math.reduce_sum(grad*X, axis=0)\n",
        "  beta_grad = tf.reshape(beta_grad/n,[-1,1])  \n",
        "  return beta_grad"
      ]
    },
    {
      "cell_type": "markdown",
      "metadata": {
        "id": "hkYA7NwuvY68"
      },
      "source": [
        "Check your implementation, it should be *very* close to the same answer that Tensorflow's autodiff provides."
      ]
    },
    {
      "cell_type": "code",
      "execution_count": null,
      "metadata": {
        "colab": {
          "base_uri": "https://localhost:8080/"
        },
        "id": "bHhZyL8lVBw-",
        "outputId": "fadc065c-d41a-4887-a010-0398615aeea0"
      },
      "outputs": [
        {
          "output_type": "stream",
          "name": "stdout",
          "text": [
            "Own implementation:\n",
            "[[ 0.5118369 ]\n",
            " [ 0.48570287]\n",
            " [-0.04637875]]\n",
            "autograd:\n",
            "[[ 0.5118369 ]\n",
            " [ 0.4857028 ]\n",
            " [-0.04637875]]\n",
            "norm: [6.00685e-08]\n"
          ]
        }
      ],
      "source": [
        "def mean_logistic_loglikelihood_tfgrad(X, Y, beta):\n",
        "  with tf.GradientTape() as tape:\n",
        "    loss_value = -mean_logistic_loglikelihood(X, Y, beta)\n",
        "  g = tape.gradient(loss_value, [beta])[0]\n",
        "  return tf.cast(g, tf.float32)\n",
        "\n",
        "beta_init = (np.random.randn(3, 1)*0.1).astype(np.float32)\n",
        "beta_grad = mean_logistic_loglikelihood_gradient(X, Y, beta_init)\n",
        "\n",
        "beta_var = tf.Variable(shape=(3,1), initial_value=beta_init)\n",
        "beta_tfgrad = mean_logistic_loglikelihood_tfgrad(X, Y, beta_var)\n",
        "\n",
        "print('Own implementation:\\n{}\\nautograd:\\n{}\\nnorm: {}'.format(\n",
        "    beta_grad.numpy(), beta_tfgrad.numpy(), \n",
        "    tf.norm(beta_grad-beta_tfgrad, axis=0)))"
      ]
    },
    {
      "cell_type": "markdown",
      "metadata": {
        "id": "F4-n2FiTvtUN"
      },
      "source": [
        "We'll train the logistic regression model with gradient descent. You will have the `gradient_descent` function implemented, but you'll have to figure out the right arguement/parameters to feed into it to train an effective model."
      ]
    },
    {
      "cell_type": "code",
      "execution_count": null,
      "metadata": {
        "id": "5ss4E463tjtR"
      },
      "outputs": [],
      "source": [
        "def gradient_descent(beta_init, lossfunc, gradfunc, \n",
        "                     t=5e-5, lr_decay=1e-2, nsteps=100):\n",
        "  \"\"\"\n",
        "  Run gradient descent for n steps starting from beta_init with t step size, \n",
        "  which is decayed lr_decay much each iteration.\n",
        "  Args:\n",
        "    beta_init: (d+1)x1 vector of initial model parameters to begin \n",
        "      gradient descent from\n",
        "    lossfunc: (d+1)x1 -> scalar function that we are minimizing\n",
        "    gradfunc: (d+1)x1 -> (d+1)x1 function that computes gradients at current \n",
        "      parameter\n",
        "    t: float, step size for updates\n",
        "    lr_decay: float, amount to decay t by after each step `t *= (1-lr_decay)`\n",
        "    nsteps: int, number of updates to make\n",
        "  Returns:\n",
        "    beta_var: (d+1)x1 vector variable with optimized values\n",
        "  \"\"\"\n",
        "  beta_var = tf.Variable(shape=beta_init.shape, initial_value=beta_init)\n",
        "\n",
        "  for i in range(0, nsteps):\n",
        "    beta_var.assign(beta_var - t*gradfunc(beta_var))\n",
        "    t *= (1-lr_decay)\n",
        "    plt.scatter(i, lossfunc(beta_var), marker='.')\n",
        "\n",
        "  return beta_var"
      ]
    },
    {
      "cell_type": "markdown",
      "metadata": {
        "id": "B1FpuFro3T6a"
      },
      "source": [
        "**Train your model (3 Points)**\n",
        "\n",
        "Use the `gradient_descent`function to optimize a good logistic regression classifier. Note: *you will have to play with some of the parameters of gradient descent*."
      ]
    },
    {
      "cell_type": "code",
      "execution_count": null,
      "metadata": {
        "colab": {
          "base_uri": "https://localhost:8080/",
          "height": 265
        },
        "id": "Q_fnS71js-l8",
        "outputId": "72bb0462-1d30-44fe-a00c-83380840fada"
      },
      "outputs": [
        {
          "output_type": "display_data",
          "data": {
            "text/plain": [
              "<Figure size 432x288 with 1 Axes>"
            ],
            "image/png": "[encoded data removed]"
          },
          "metadata": {
            "needs_background": "light"
          }
        }
      ],
      "source": [
        "beta_opt = gradient_descent((np.random.randn(3,1)*0.1).astype(np.float32), \n",
        "                            lambda beta: mean_logistic_loglikelihood(X,Y,beta),\n",
        "                            lambda beta: mean_logistic_loglikelihood_gradient(X,Y,beta), \n",
        "                            t = 5e-3, lr_decay = 1e-5, nsteps = 5000)\n",
        "\n"
      ]
    },
    {
      "cell_type": "code",
      "source": [],
      "metadata": {
        "id": "XD2hpe5SMojn"
      },
      "execution_count": null,
      "outputs": []
    },
    {
      "cell_type": "code",
      "source": [],
      "metadata": {
        "id": "S0P5fFosMp4S"
      },
      "execution_count": null,
      "outputs": []
    },
    {
      "cell_type": "code",
      "source": [],
      "metadata": {
        "id": "j5-wNmp2Mp1r"
      },
      "execution_count": null,
      "outputs": []
    },
    {
      "cell_type": "code",
      "source": [],
      "metadata": {
        "id": "oot6IyZ_MpzE"
      },
      "execution_count": null,
      "outputs": []
    },
    {
      "cell_type": "code",
      "source": [],
      "metadata": {
        "id": "uOz8y6dBMpwQ"
      },
      "execution_count": null,
      "outputs": []
    },
    {
      "cell_type": "code",
      "source": [],
      "metadata": {
        "id": "x9RswWL8Mpte"
      },
      "execution_count": null,
      "outputs": []
    },
    {
      "cell_type": "code",
      "source": [],
      "metadata": {
        "id": "mJZkVpTtMohL"
      },
      "execution_count": null,
      "outputs": []
    },
    {
      "cell_type": "code",
      "source": [],
      "metadata": {
        "id": "Y2sQcxyFMoeQ"
      },
      "execution_count": null,
      "outputs": []
    },
    {
      "cell_type": "code",
      "source": [],
      "metadata": {
        "id": "LzP-hOrCMoXB"
      },
      "execution_count": null,
      "outputs": []
    },
    {
      "cell_type": "markdown",
      "metadata": {
        "id": "Nn3l79oQCnAX"
      },
      "source": [
        "**Plot Decision Boundary (1 Point)**\n",
        "\n",
        "Plot the decision surface for the learned logistic regression model"
      ]
    },
    {
      "cell_type": "code",
      "execution_count": null,
      "metadata": {
        "colab": {
          "base_uri": "https://localhost:8080/",
          "height": 300
        },
        "id": "VE0o1FKdCXw7",
        "outputId": "4e1a8b34-138e-4a21-d403-7c3db0c69349"
      },
      "outputs": [
        {
          "output_type": "execute_result",
          "data": {
            "text/plain": [
              "<matplotlib.collections.PathCollection at 0x7fc3176e38d0>"
            ]
          },
          "metadata": {},
          "execution_count": 233
        },
        {
          "output_type": "display_data",
          "data": {
            "text/plain": [
              "<Figure size 432x288 with 2 Axes>"
            ],
            "image/png": "[encoded data removed]"
          },
          "metadata": {
            "needs_background": "light"
          }
        }
      ],
      "source": [
        "plot_grid(lambda x:logistic_pred(x,beta_opt))  # TODO (hint, use logistic_pred)\n",
        "plt.scatter(X[np.equal(Y[:,-1], 0), 0], X[np.equal(Y[:,-1], 0), 1])\n",
        "plt.scatter(X[np.equal(Y[:,-1], 1), 0], X[np.equal(Y[:,-1], 1), 1], marker='+')"
      ]
    },
    {
      "cell_type": "markdown",
      "metadata": {
        "id": "CI0bWIaoBEW7"
      },
      "source": [
        "**Compute accuracy (1 Points)**\n",
        "\n",
        "Compute the accuracy of the learned logistic regression model. (Hint: you should see over 94% accuracy on training data.)"
      ]
    },
    {
      "cell_type": "code",
      "execution_count": null,
      "metadata": {
        "colab": {
          "base_uri": "https://localhost:8080/"
        },
        "id": "WpjCtpUr0dKz",
        "outputId": "48c4af30-ed22-46d8-d4d8-d3234781c35e"
      },
      "outputs": [
        {
          "output_type": "stream",
          "name": "stdout",
          "text": [
            "Logistic Regression Accuracy on Training Data: 0.9447236180904522\n"
          ]
        }
      ],
      "source": [
        "accu = accuracy(X, Y, lambda x: logistic_pred(x, beta_opt))  # TODO: remove\n",
        "print('Logistic Regression Accuracy on Training Data: {}'.format(accu))"
      ]
    },
    {
      "cell_type": "code",
      "source": [],
      "metadata": {
        "id": "Fhd6S06KMqNF"
      },
      "execution_count": null,
      "outputs": []
    },
    {
      "cell_type": "markdown",
      "metadata": {
        "id": "WkEPeSpHr7q6"
      },
      "source": [
        "## A Tricky Case\n",
        "\n",
        "Above we saw that both Naive Bayes and logistic regression performed well. Next, we will look at a case where this is no longer true and we will assess what went wrong."
      ]
    },
    {
      "cell_type": "code",
      "execution_count": null,
      "metadata": {
        "id": "4-HBAoJz0_Dv"
      },
      "outputs": [],
      "source": [
        "url2 = 'https://raw.githubusercontent.com/lupalab/comp755_f21/main/hw3_2.csv'\n",
        "X, Y = read_dataset(url2)"
      ]
    },
    {
      "cell_type": "markdown",
      "metadata": {
        "id": "cnsJkpZXDaBX"
      },
      "source": [
        "### Naive Bayes\n",
        "\n",
        "First, let's see how Naive Bayes performs on the new dataset. We'll estimate parameters, and draw samples."
      ]
    },
    {
      "cell_type": "code",
      "execution_count": null,
      "metadata": {
        "id": "5fyKmoQE1KuR"
      },
      "outputs": [],
      "source": [
        "pi1, mu1, mu0 = estimate_naive_bayes(X, Y)"
      ]
    },
    {
      "cell_type": "code",
      "execution_count": null,
      "metadata": {
        "id": "klTQP98s1PsF",
        "colab": {
          "base_uri": "https://localhost:8080/",
          "height": 282
        },
        "outputId": "221797f5-25cf-48d0-c47c-a646bc100456"
      },
      "outputs": [
        {
          "output_type": "execute_result",
          "data": {
            "text/plain": [
              "<matplotlib.collections.PathCollection at 0x7fc334895b10>"
            ]
          },
          "metadata": {},
          "execution_count": 237
        },
        {
          "output_type": "display_data",
          "data": {
            "text/plain": [
              "<Figure size 432x288 with 1 Axes>"
            ],
            "image/png": "[encoded data removed]"
          },
          "metadata": {
            "needs_background": "light"
          }
        }
      ],
      "source": [
        "Xhat, Yhat = generate_naive_bayes(200, pi1, mu1, mu0)\n",
        "plt.scatter(X[np.equal(Y[:,-1], 0), 0], X[np.equal(Y[:,-1], 0), 1])\n",
        "plt.scatter(X[np.equal(Y[:,-1], 1), 0], X[np.equal(Y[:,-1], 1), 1], marker='+')\n",
        "plt.scatter(Xhat[np.equal(Yhat[:,-1], 0), 0], Xhat[np.equal(Yhat[:,-1], 0), 1])\n",
        "plt.scatter(Xhat[np.equal(Yhat[:,-1], 1), 0], Xhat[np.equal(Yhat[:,-1], 1), 1], marker='+')"
      ]
    },
    {
      "cell_type": "code",
      "source": [],
      "metadata": {
        "id": "Z2s3MJbkM3CG"
      },
      "execution_count": null,
      "outputs": []
    },
    {
      "cell_type": "code",
      "source": [],
      "metadata": {
        "id": "qBQa-Gp3M2_8"
      },
      "execution_count": null,
      "outputs": []
    },
    {
      "cell_type": "code",
      "source": [],
      "metadata": {
        "id": "laJ9F_wHM29r"
      },
      "execution_count": null,
      "outputs": []
    },
    {
      "cell_type": "code",
      "source": [],
      "metadata": {
        "id": "S1NV0VozM27H"
      },
      "execution_count": null,
      "outputs": []
    },
    {
      "cell_type": "code",
      "source": [],
      "metadata": {
        "id": "HlfTpI57M2yt"
      },
      "execution_count": null,
      "outputs": []
    },
    {
      "cell_type": "code",
      "source": [],
      "metadata": {
        "id": "OgJmquZ9M2ri"
      },
      "execution_count": null,
      "outputs": []
    },
    {
      "cell_type": "code",
      "source": [],
      "metadata": {
        "id": "XhR0myjLM2ma"
      },
      "execution_count": null,
      "outputs": []
    },
    {
      "cell_type": "code",
      "source": [],
      "metadata": {
        "id": "Q7ZUVz1tM2jM"
      },
      "execution_count": null,
      "outputs": []
    },
    {
      "cell_type": "code",
      "source": [],
      "metadata": {
        "id": "h5JaLqR0M2gu"
      },
      "execution_count": null,
      "outputs": []
    },
    {
      "cell_type": "code",
      "source": [],
      "metadata": {
        "id": "1xyCaXxMM2Pa"
      },
      "execution_count": null,
      "outputs": []
    },
    {
      "cell_type": "markdown",
      "metadata": {
        "id": "tgySrVRpD0ff"
      },
      "source": [
        "**Decision Surface and Accuracy (2 Points)**\n",
        "\n",
        "Let's now plot the decision surface and compute the training accuracy as before."
      ]
    },
    {
      "cell_type": "code",
      "execution_count": null,
      "metadata": {
        "id": "S9WtYevN1Tf9",
        "colab": {
          "base_uri": "https://localhost:8080/",
          "height": 300
        },
        "outputId": "5d7bd1be-536f-42df-a72b-2de0ceca3e7a"
      },
      "outputs": [
        {
          "output_type": "stream",
          "name": "stdout",
          "text": [
            "Naive Bayes Accuracy on Training Data: 0.6741854636591479\n"
          ]
        },
        {
          "output_type": "display_data",
          "data": {
            "text/plain": [
              "<Figure size 432x288 with 2 Axes>"
            ],
            "image/png": "[encoded data removed]"
          },
          "metadata": {
            "needs_background": "light"
          }
        }
      ],
      "source": [
        "plot_grid(lambda x: naive_bayes_pred(x, pi1, mu1, mu0))  # TODO\n",
        "plt.scatter(X[np.equal(Y[:,-1], 0), 0], X[np.equal(Y[:,-1], 0), 1])\n",
        "plt.scatter(X[np.equal(Y[:,-1], 1), 0], X[np.equal(Y[:,-1], 1), 1], marker='+')\n",
        "\n",
        "accu = accuracy(X,Y, lambda x: naive_bayes_pred(x, pi1, mu1, mu0))  # TODO\n",
        "print('Naive Bayes Accuracy on Training Data: {}'.format(accu))"
      ]
    },
    {
      "cell_type": "markdown",
      "metadata": {
        "id": "Bs0zm7ApEesX"
      },
      "source": [
        "Notice any differences from last time?"
      ]
    },
    {
      "cell_type": "markdown",
      "metadata": {
        "id": "vN7pJckUEwIl"
      },
      "source": [
        "### Logistic Regression"
      ]
    },
    {
      "cell_type": "markdown",
      "metadata": {
        "id": "It7w_BORE_Nv"
      },
      "source": [
        "**Train and Assess (2 Points)**\n",
        "\n",
        "We shall now optimize logistic regresion for the new data, plot the decision surface, and get the training data accuracy (as before)."
      ]
    },
    {
      "cell_type": "code",
      "execution_count": null,
      "metadata": {
        "id": "l04gY6Lc1bw-",
        "colab": {
          "base_uri": "https://localhost:8080/",
          "height": 548
        },
        "outputId": "6368c01c-67f5-4e47-ee22-8ca43af6f413"
      },
      "outputs": [
        {
          "output_type": "stream",
          "name": "stdout",
          "text": [
            "Logistic Regression Accuracy on Training Data: 0.9573934837092731\n"
          ]
        },
        {
          "output_type": "display_data",
          "data": {
            "text/plain": [
              "<Figure size 432x288 with 1 Axes>"
            ],
            "image/png": "[encoded data removed]"
          },
          "metadata": {
            "needs_background": "light"
          }
        },
        {
          "output_type": "display_data",
          "data": {
            "text/plain": [
              "<Figure size 432x288 with 2 Axes>"
            ],
            "image/png": "[encoded data removed]"
          },
          "metadata": {
            "needs_background": "light"
          }
        }
      ],
      "source": [
        "beta_opt = gradient_descent((np.random.randn(3, 1)*0.1).astype(np.float32), \n",
        "                            lambda beta: mean_logistic_loglikelihood(X,Y,beta),\n",
        "                            lambda beta: mean_logistic_loglikelihood_gradient(X,Y,beta), \n",
        "                            t = 5e-3, lr_decay = 1e-5, nsteps = 5000)\n",
        "\n",
        "plt.figure()\n",
        "plot_grid(lambda x: logistic_pred(x, beta_opt))  # TODO (hint, use logistic_pred)\n",
        "plt.scatter(X[np.equal(Y[:,-1], 0), 0], X[np.equal(Y[:,-1], 0), 1])\n",
        "plt.scatter(X[np.equal(Y[:,-1], 1), 0], X[np.equal(Y[:,-1], 1), 1], marker='+')\n",
        "\n",
        "accu = accuracy(X, \n",
        "                Y, \n",
        "                lambda x: logistic_pred(x, beta_opt))  # TODO\n",
        "print('Logistic Regression Accuracy on Training Data: {}'.format(accu))"
      ]
    },
    {
      "cell_type": "markdown",
      "metadata": {
        "id": "cB82Z0WsG_xd"
      },
      "source": [
        "Notice any differences from last time?"
      ]
    },
    {
      "cell_type": "markdown",
      "metadata": {
        "id": "pUHb2g15HAq1"
      },
      "source": [
        "### Big Picture\n",
        "\n",
        "**What went wrong? What is different? (5 Points)**\n",
        "\n",
        "It's no longer the case that both models work well, why is that? Why do/don't things break?"
      ]
    },
    {
      "cell_type": "markdown",
      "metadata": {
        "id": "sfvafNbuWz5t"
      },
      "source": [
        "*TODO: Respond*\n",
        "Logistic regression in the above sample works well because of linear separation. Linear separation allows the logistic regression to classify into two classes, which is what is happening in the above examples. \n",
        "\n",
        "However, the main goal of Naive bayes is to estimate class prior probability and its mean and variance value. Based on these estimations, we should be able to solve the classification. However, if one of the classes are apart from the other, the classification would be unsolvable like the problem we face above. "
      ]
    },
    {
      "cell_type": "code",
      "source": [],
      "metadata": {
        "id": "0ZBD9dApdGD5"
      },
      "execution_count": null,
      "outputs": []
    }
  ],
  "metadata": {
    "accelerator": "GPU",
    "colab": {
      "collapsed_sections": [
        "oM_8ELnJq_wd"
      ],
      "provenance": [],
      "include_colab_link": true
    },
    "kernelspec": {
      "display_name": "Python 3",
      "name": "python3"
    },
    "gpuClass": "standard"
  },
  "nbformat": 4,
  "nbformat_minor": 0
}