{
  "nbformat": 4,
  "nbformat_minor": 0,
  "metadata": {
    "colab": {
      "provenance": [],
      "include_colab_link": true
    },
    "kernelspec": {
      "name": "python3",
      "display_name": "Python 3"
    },
    "accelerator": "GPU"
  },
  "cells": [
    {
      "cell_type": "markdown",
      "metadata": {
        "id": "view-in-github",
        "colab_type": "text"
      },
      "source": [
        "<a href=\"https://colab.research.google.com/github/mandudu/Machine-Learning-Projects/blob/main/Linear_regression.ipynb\" target=\"_parent\"><img src=\"https://colab.research.google.com/assets/colab-badge.svg\" alt=\"Open In Colab\"/></a>"
      ]
    },
    {
      "cell_type": "code",
      "metadata": {
        "id": "pp-R4v8eehJ4"
      },
      "source": [
        "import numpy as np\n",
        "import matplotlib.pyplot as plt"
      ],
      "execution_count": null,
      "outputs": []
    },
    {
      "cell_type": "code",
      "metadata": {
        "id": "up2bDpU9fCk3"
      },
      "source": [
        "def generate_data():\n",
        "    size = 1000\n",
        "    x = np.linspace(0, 1, size)\n",
        "    y = -10*x + 5\n",
        "    y += 15*np.logical_and(x > 0.75, x < 0.8).astype(float)\n",
        "    return x, y"
      ],
      "execution_count": null,
      "outputs": []
    },
    {
      "cell_type": "markdown",
      "metadata": {
        "id": "hTUMzQT3f0wm"
      },
      "source": [
        "# 1. Inspect the data (0.5 points)\n",
        "\n",
        "Using `matplotlib`, create a scatter plot of the data returned by `generate_data()`.\n",
        "What is out of the ordinary about this line?"
      ]
    },
    {
      "cell_type": "code",
      "metadata": {
        "id": "eEfr6MfZfkyh",
        "colab": {
          "base_uri": "https://localhost:8080/",
          "height": 282
        },
        "outputId": "ffcc0f07-c64e-488f-ccf8-0b9f3667df6b"
      },
      "source": [
        "x,y = generate_data()\n",
        "plt.scatter(x,y)"
      ],
      "execution_count": null,
      "outputs": [
        {
          "output_type": "execute_result",
          "data": {
            "text/plain": [
              "<matplotlib.collections.PathCollection at 0x7fecbadb58b0>"
            ]
          },
          "metadata": {},
          "execution_count": 3
        },
        {
          "output_type": "display_data",
          "data": {
            "text/plain": [
              "<Figure size 432x288 with 1 Axes>"
            ],
            "image/png": "[encoded data removed]"
          },
          "metadata": {
            "needs_background": "light"
          }
        }
      ]
    },
    {
      "cell_type": "markdown",
      "source": [
        "The line generated from the output value has an unexpected spike at 0.75<x<0.8\n",
        "which does not have a perfect linear relationship"
      ],
      "metadata": {
        "id": "4_g5fkFMRq2j"
      }
    },
    {
      "cell_type": "markdown",
      "metadata": {
        "id": "DhgvBYNRfzG4"
      },
      "source": [
        "# 2. Implement linear regression (2 points)\n",
        "\n",
        "Implement a basic linear regression model which is fit to the data from `generate_data` using gradient descent.\n",
        "Your model should take the form `y = m*x + b`, where `y` is the output, `x` is the input, `m` is a weight parameter, and `b` is a bias parameter.\n",
        "You must use only `numpy` and derive any derivatives yourself (i.e. no autograd from TensorFlow, MXNet, Pytorch, JAX etc!).\n",
        "You should use a squared-error loss function.\n",
        "You are welcome to use any technique you want to decide when to stop training.\n",
        "Make sure you tune your optimization hyperparameters so that the model converges.\n",
        "Print out or plot the loss over the course of training."
      ]
    },
    {
      "cell_type": "code",
      "source": [
        "x = x.reshape([1000,1])\n",
        "x.shape"
      ],
      "metadata": {
        "colab": {
          "base_uri": "https://localhost:8080/"
        },
        "id": "kS5TDKBk1oEN",
        "outputId": "1e5a9252-0260-4c8c-9373-df406fc57f32"
      },
      "execution_count": null,
      "outputs": [
        {
          "output_type": "execute_result",
          "data": {
            "text/plain": [
              "(1000, 1)"
            ]
          },
          "metadata": {},
          "execution_count": 4
        }
      ]
    },
    {
      "cell_type": "code",
      "source": [
        "class LinearRegression:\n",
        "        \n",
        "    def fit(self, x, y, lr, iterations):\n",
        "        #Initialization of weights, bias and cost list\n",
        "        self.bias = np.zeros(1)\n",
        "        self.weights = np.ones(1)\n",
        "        self.costs = []\n",
        "\n",
        "        for i in range(iterations):\n",
        "\n",
        "            #Linear Regression Function\n",
        "            y_hat = x @ self.weights + self.bias\n",
        "\n",
        "            #Error value\n",
        "            error = y - y_hat\n",
        "\n",
        "            #Mean Squared Error\n",
        "            mse = np.mean(np.sum(np.square(error)))\n",
        "            self.costs.append(mse) #append MSE to cost list for the graph\n",
        "\n",
        "            #Partial derivative of weights and bias\n",
        "            gradient_weights = - (1 / 1000) * np.sum(x.T @ error)\n",
        "            gradient_bias = - (1 / 1000) * np.sum(error)            \n",
        "\n",
        "            #Gradient Descent\n",
        "            self.weights = self.weights - lr * gradient_weights\n",
        "            self.bias = self.bias - lr * gradient_bias\n",
        "    \n",
        "    def predict(self, x):\n",
        "        return (x @ self.weights) + self.bias"
      ],
      "metadata": {
        "id": "2Xajhz43CMKv"
      },
      "execution_count": null,
      "outputs": []
    },
    {
      "cell_type": "code",
      "source": [
        "#Instantiate\n",
        "model = LinearRegression()\n",
        "#fit the model with 0.5 Learning rate and 10000 epochs\n",
        "model.fit(x,y, 0.05, 10000)\n",
        "\n",
        "#Predictions\n",
        "predictions = model.predict(x)\n",
        "#Print hyperparameters\n",
        "model.weights, model.bias\n"
      ],
      "metadata": {
        "colab": {
          "base_uri": "https://localhost:8080/"
        },
        "id": "9PK4tY2fQcHK",
        "outputId": "224e40f6-b1a5-463f-d334-0bf19ee72952"
      },
      "execution_count": null,
      "outputs": [
        {
          "output_type": "execute_result",
          "data": {
            "text/plain": [
              "(array([-7.52747253]), array([4.51373626]))"
            ]
          },
          "metadata": {},
          "execution_count": 6
        }
      ]
    },
    {
      "cell_type": "code",
      "source": [
        "#epoch vs cost graph \n",
        "plt.plot(list(range(10000)),model.costs, '-r')\n"
      ],
      "metadata": {
        "colab": {
          "base_uri": "https://localhost:8080/",
          "height": 282
        },
        "id": "OfpQeabFXPO3",
        "outputId": "78b60871-ed91-4e77-fc82-345e2abdf69b"
      },
      "execution_count": null,
      "outputs": [
        {
          "output_type": "execute_result",
          "data": {
            "text/plain": [
              "[<matplotlib.lines.Line2D at 0x7fecba824280>]"
            ]
          },
          "metadata": {},
          "execution_count": 7
        },
        {
          "output_type": "display_data",
          "data": {
            "text/plain": [
              "<Figure size 432x288 with 1 Axes>"
            ],
            "image/png": "[encoded data removed]"
          },
          "metadata": {
            "needs_background": "light"
          }
        }
      ]
    },
    {
      "cell_type": "code",
      "source": [
        "#Predictions vs Groud Truth\n",
        "plt.scatter(x,predictions)\n",
        "plt.scatter(x,y)"
      ],
      "metadata": {
        "colab": {
          "base_uri": "https://localhost:8080/",
          "height": 282
        },
        "id": "NGCGawJCFhcn",
        "outputId": "931ad3aa-8dc2-42f1-d5a9-62630378bdbd"
      },
      "execution_count": null,
      "outputs": [
        {
          "output_type": "execute_result",
          "data": {
            "text/plain": [
              "<matplotlib.collections.PathCollection at 0x7fecba869670>"
            ]
          },
          "metadata": {},
          "execution_count": 8
        },
        {
          "output_type": "display_data",
          "data": {
            "text/plain": [
              "<Figure size 432x288 with 1 Axes>"
            ],
            "image/png": "[encoded data removed]"
          },
          "metadata": {
            "needs_background": "light"
          }
        }
      ]
    },
    {
      "cell_type": "markdown",
      "source": [
        "Both the bias and the weights of the linear regression model has a big difference with the actual values. Therefore, the fit of the model is not robust/accurate when using MSE."
      ],
      "metadata": {
        "id": "qu7JcckNFA_7"
      }
    },
    {
      "cell_type": "markdown",
      "metadata": {
        "id": "PtnLN-bol1Qv"
      },
      "source": [
        "# 4. \"Robust\" linear regression (0.5 points)\n",
        "\n",
        "Implement a linear regression model exactly like the one you created in question 2, except using a L1 loss (absolute difference) instead of a squared L2 loss (squared error).\n",
        "You should be able to copy and paste your code from question 2 and only change a few lines.\n",
        "Print out or plot the loss over the course of training.\n",
        "What is different about the loss trajectory compared to the squared-error linear regression?"
      ]
    },
    {
      "cell_type": "code",
      "source": [
        "x = x.reshape([1000,1])\n",
        "x.shape"
      ],
      "metadata": {
        "colab": {
          "base_uri": "https://localhost:8080/"
        },
        "id": "Q56-typMOI5K",
        "outputId": "032f3d3e-1a90-4b9f-e549-d503aca8e88e"
      },
      "execution_count": null,
      "outputs": [
        {
          "output_type": "execute_result",
          "data": {
            "text/plain": [
              "(1000, 1)"
            ]
          },
          "metadata": {},
          "execution_count": 9
        }
      ]
    },
    {
      "cell_type": "code",
      "metadata": {
        "id": "TSCjJq0VLDRT"
      },
      "source": [
        "class LinearRegression_robust:\n",
        "        \n",
        "    def fit(self, x, y, lr, iterations):\n",
        "        #Initialization of weights, bias and cost list\n",
        "        self.bias = np.zeros(1)\n",
        "        self.weights = np.ones(1)\n",
        "        self.costs = []\n",
        "\n",
        "        for i in range(iterations):\n",
        "            \n",
        "            #Linear Regression Function\n",
        "            y_hat = np.dot(x, self.weights) + self.bias\n",
        "\n",
        "            #Error value\n",
        "            error = y - y_hat\n",
        "\n",
        "            #Mean Absolute Error\n",
        "            mae = np.mean(np.sum(np.abs(error)))\n",
        "            self.costs.append(mae) #append MAE to cost list for the graph\n",
        "\n",
        "            #Partial derivative of weights and bias\n",
        "            gradient_weights = -(1/1000) * np.sum(np.dot(x.T, error/np.abs(error)))\n",
        "            gradient_bias = -(1/1000) * np.sum(error/np.abs(error))  \n",
        "\n",
        "            #Gradient Descent\n",
        "            self.weights = self.weights - lr * gradient_weights\n",
        "            self.bias = self.bias - lr * gradient_bias\n",
        "    \n",
        "    def predict(self, x):\n",
        "        return (x @ self.weights) + self.bias\n"
      ],
      "execution_count": null,
      "outputs": []
    },
    {
      "cell_type": "code",
      "source": [
        "#Instantiate\n",
        "model_robust = LinearRegression_robust()\n",
        "#Fit the model with 0.05 learning rate and 10000 epochs\n",
        "model_robust.fit(x,y, 0.05, 10000)\n"
      ],
      "metadata": {
        "id": "lOeOEjpzIklM"
      },
      "execution_count": null,
      "outputs": []
    },
    {
      "cell_type": "code",
      "source": [
        "plt.plot(list(range(10000)),model_robust.costs, '-r')\n"
      ],
      "metadata": {
        "colab": {
          "base_uri": "https://localhost:8080/",
          "height": 282
        },
        "id": "Sl0duc7cXATY",
        "outputId": "af62006b-9975-4e19-f773-c536d2a51079"
      },
      "execution_count": null,
      "outputs": [
        {
          "output_type": "execute_result",
          "data": {
            "text/plain": [
              "[<matplotlib.lines.Line2D at 0x7fecba739b80>]"
            ]
          },
          "metadata": {},
          "execution_count": 12
        },
        {
          "output_type": "display_data",
          "data": {
            "text/plain": [
              "<Figure size 432x288 with 1 Axes>"
            ],
            "image/png": "[encoded data removed]"
          },
          "metadata": {
            "needs_background": "light"
          }
        }
      ]
    },
    {
      "cell_type": "markdown",
      "source": [
        "The trajectory of the MAE graph descends in a linear line before it converges whereas MSE descends exponentially before it converges."
      ],
      "metadata": {
        "id": "DgJQRSy-XrCw"
      }
    },
    {
      "cell_type": "markdown",
      "metadata": {
        "id": "xT_JGyk7LXTH"
      },
      "source": [
        "# 5. Analyze the result (0.5 points)\n",
        "\n",
        "Print out the new values of `w` and `b` found by your model after training.\n",
        "Are they closer to the true values used in `generate_data`?\n",
        "Plot the model as a line again.\n",
        "Why do you think the behavior is different?"
      ]
    },
    {
      "cell_type": "code",
      "metadata": {
        "id": "-ZAgCbU1Li0J",
        "colab": {
          "base_uri": "https://localhost:8080/"
        },
        "outputId": "d9aba7dd-3f3a-49e4-d2de-535ec68f8502"
      },
      "source": [
        "#Predicting the values\n",
        "predictions_robust = model_robust.predict(x)\n",
        "\n",
        "#Hyperparameters\n",
        "model_robust.weights, model_robust.bias"
      ],
      "execution_count": null,
      "outputs": [
        {
          "output_type": "execute_result",
          "data": {
            "text/plain": [
              "(array([-10.00658659]), array([4.9825]))"
            ]
          },
          "metadata": {},
          "execution_count": 13
        }
      ]
    },
    {
      "cell_type": "markdown",
      "source": [
        "Both Weight and Bias values are almost identical to the true values used in generate_data."
      ],
      "metadata": {
        "id": "4f9Vb6cCxPF5"
      }
    },
    {
      "cell_type": "code",
      "source": [
        "#predictions vs ground truth\n",
        "plt.scatter(x,predictions_robust)\n",
        "plt.scatter(x,y)\n",
        "plt.show"
      ],
      "metadata": {
        "colab": {
          "base_uri": "https://localhost:8080/",
          "height": 282
        },
        "id": "Y2GibZoZX-kS",
        "outputId": "015b8abe-1202-4758-e7c9-31832988dd1d"
      },
      "execution_count": null,
      "outputs": [
        {
          "output_type": "execute_result",
          "data": {
            "text/plain": [
              "<function matplotlib.pyplot.show(*args, **kw)>"
            ]
          },
          "metadata": {},
          "execution_count": 14
        },
        {
          "output_type": "display_data",
          "data": {
            "text/plain": [
              "<Figure size 432x288 with 1 Axes>"
            ],
            "image/png": "[encoded data removed]"
          },
          "metadata": {
            "needs_background": "light"
          }
        }
      ]
    },
    {
      "cell_type": "markdown",
      "source": [
        "MAE performs better in this dataset because Mean Squared Error punishes larger errors to a greater extent than the Mean Absolute Error. Furthermore, since the data that we created has an extremely large error points from 0.75 < x < 0.8, it is best not to use MSE since MSE focuses on reducing large outliers errors. Whereas, MAE focuses on greater interpretability. "
      ],
      "metadata": {
        "id": "RtbrDu1dwEtc"
      }
    }
  ]
}