{
 "cells": [
  {
   "cell_type": "code",
   "execution_count": 1,
   "id": "556928ed",
   "metadata": {
    "scrolled": true
   },
   "outputs": [
    {
     "name": "stdout",
     "output_type": "stream",
     "text": [
      "hello my name is James Park and I go to UNC Chapel Hill\n"
     ]
    }
   ],
   "source": [
    "print(\"hello my name is James Park and I go to UNC Chapel Hill\")"
   ]
  },
  {
   "cell_type": "code",
   "execution_count": 2,
   "id": "04e180d4",
   "metadata": {},
   "outputs": [
    {
     "name": "stdout",
     "output_type": "stream",
     "text": [
      "What is your name?\n",
      "\n",
      " is your name?\n"
     ]
    }
   ],
   "source": [
    "print(\"What is your name?\")\n",
    "hello = input();\n",
    "print(hello+\" is your name?\") "
   ]
  },
  {
   "cell_type": "code",
   "execution_count": null,
   "id": "05cf6f8f",
   "metadata": {},
   "outputs": [],
   "source": []
  },
  {
   "cell_type": "code",
   "execution_count": 3,
   "id": "fcb03f49",
   "metadata": {},
   "outputs": [
    {
     "name": "stdout",
     "output_type": "stream",
     "text": [
      "5 my favorite number\n"
     ]
    }
   ],
   "source": [
    "num = 5\n",
    "print(str(num) + \" my favorite number\")"
   ]
  },
  {
   "cell_type": "code",
   "execution_count": 3,
   "id": "6d56a717",
   "metadata": {
    "scrolled": false
   },
   "outputs": [
    {
     "name": "stdout",
     "output_type": "stream",
     "text": [
      "What is your namejAMES\n",
      "what is your age?PARK\n",
      "jAMESPARK\n"
     ]
    }
   ],
   "source": [
    "name = input(\"What is your name\")\n",
    "age = input(\"what is your age?\")\n",
    "print(name + age )"
   ]
  },
  {
   "cell_type": "code",
   "execution_count": 9,
   "id": "5f8e5ad4",
   "metadata": {},
   "outputs": [],
   "source": [
    "friends = [\"Zeke\", \"JunMyoung\", \"Victoria\"]"
   ]
  },
  {
   "cell_type": "code",
   "execution_count": 10,
   "id": "9278f3f0",
   "metadata": {},
   "outputs": [
    {
     "name": "stdout",
     "output_type": "stream",
     "text": [
      "['Zeke', 'JunMyoung', 'Victoria']\n"
     ]
    }
   ],
   "source": [
    "print(friends)"
   ]
  },
  {
   "cell_type": "code",
   "execution_count": 11,
   "id": "df84f59f",
   "metadata": {},
   "outputs": [],
   "source": [
    "friends[1] = \"mike\""
   ]
  },
  {
   "cell_type": "code",
   "execution_count": 12,
   "id": "fa7b8573",
   "metadata": {},
   "outputs": [
    {
     "data": {
      "text/plain": [
       "['Zeke', 'mike', 'Victoria']"
      ]
     },
     "execution_count": 12,
     "metadata": {},
     "output_type": "execute_result"
    }
   ],
   "source": [
    "friends"
   ]
  },
  {
   "cell_type": "code",
   "execution_count": 13,
   "id": "abd2f970",
   "metadata": {},
   "outputs": [],
   "source": [
    "lucky_numbers = [1,2,3,4,5,6]"
   ]
  },
  {
   "cell_type": "code",
   "execution_count": 14,
   "id": "a7044d76",
   "metadata": {},
   "outputs": [
    {
     "name": "stdout",
     "output_type": "stream",
     "text": [
      "['Zeke', 'mike', 'Victoria']\n"
     ]
    }
   ],
   "source": [
    "print(friends)"
   ]
  },
  {
   "cell_type": "code",
   "execution_count": 15,
   "id": "f32729b2",
   "metadata": {
    "scrolled": true
   },
   "outputs": [
    {
     "name": "stdout",
     "output_type": "stream",
     "text": [
      "[1, 2, 3, 4, 5, 6]\n"
     ]
    }
   ],
   "source": [
    "print(lucky_numbers)"
   ]
  },
  {
   "cell_type": "code",
   "execution_count": 16,
   "id": "9f7ff7c9",
   "metadata": {},
   "outputs": [],
   "source": [
    "import math"
   ]
  },
  {
   "cell_type": "code",
   "execution_count": 24,
   "id": "cc651523",
   "metadata": {},
   "outputs": [
    {
     "name": "stdout",
     "output_type": "stream",
     "text": [
      "['Zeke', 'John', 'Victoria', 'cha']\n"
     ]
    }
   ],
   "source": [
    "print(friends)"
   ]
  },
  {
   "cell_type": "code",
   "execution_count": 25,
   "id": "4de868c6",
   "metadata": {},
   "outputs": [],
   "source": [
    "friends.append(\"cha\")"
   ]
  },
  {
   "cell_type": "code",
   "execution_count": 26,
   "id": "2772cb67",
   "metadata": {},
   "outputs": [],
   "source": [
    "friends.insert(1, \"John\")"
   ]
  },
  {
   "cell_type": "code",
   "execution_count": 39,
   "id": "ef331c7e",
   "metadata": {
    "scrolled": true
   },
   "outputs": [
    {
     "data": {
      "text/plain": [
       "['Zeke', 'John', 'cha', 'cha', 'James', 'James']"
      ]
     },
     "execution_count": 39,
     "metadata": {},
     "output_type": "execute_result"
    }
   ],
   "source": [
    "friends"
   ]
  },
  {
   "cell_type": "code",
   "execution_count": 40,
   "id": "e568f692",
   "metadata": {},
   "outputs": [
    {
     "data": {
      "text/plain": [
       "4"
      ]
     },
     "execution_count": 40,
     "metadata": {},
     "output_type": "execute_result"
    }
   ],
   "source": [
    "friends.index(\"James\")"
   ]
  },
  {
   "cell_type": "code",
   "execution_count": 44,
   "id": "21628c4f",
   "metadata": {},
   "outputs": [],
   "source": [
    "friends.append(\"James\")"
   ]
  },
  {
   "cell_type": "code",
   "execution_count": 45,
   "id": "8e64d1e0",
   "metadata": {},
   "outputs": [],
   "source": [
    "friends.append(\"James\")"
   ]
  },
  {
   "cell_type": "code",
   "execution_count": 46,
   "id": "d205d56e",
   "metadata": {},
   "outputs": [
    {
     "data": {
      "text/plain": [
       "['Zeke',\n",
       " 'John',\n",
       " 'cha',\n",
       " 'cha',\n",
       " 'James',\n",
       " 'James',\n",
       " 'James',\n",
       " 'James',\n",
       " 'James',\n",
       " 'James']"
      ]
     },
     "execution_count": 46,
     "metadata": {},
     "output_type": "execute_result"
    }
   ],
   "source": [
    "friends"
   ]
  },
  {
   "cell_type": "code",
   "execution_count": 47,
   "id": "862d82b4",
   "metadata": {},
   "outputs": [],
   "source": [
    "friends.sort()"
   ]
  },
  {
   "cell_type": "code",
   "execution_count": 48,
   "id": "a1683f79",
   "metadata": {},
   "outputs": [
    {
     "data": {
      "text/plain": [
       "['James',\n",
       " 'James',\n",
       " 'James',\n",
       " 'James',\n",
       " 'James',\n",
       " 'James',\n",
       " 'John',\n",
       " 'Zeke',\n",
       " 'cha',\n",
       " 'cha']"
      ]
     },
     "execution_count": 48,
     "metadata": {},
     "output_type": "execute_result"
    }
   ],
   "source": [
    "friends"
   ]
  },
  {
   "cell_type": "code",
   "execution_count": 49,
   "id": "30eabadd",
   "metadata": {},
   "outputs": [],
   "source": [
    "friends.reverse()"
   ]
  },
  {
   "cell_type": "code",
   "execution_count": 50,
   "id": "4035836b",
   "metadata": {},
   "outputs": [
    {
     "data": {
      "text/plain": [
       "['cha',\n",
       " 'cha',\n",
       " 'Zeke',\n",
       " 'John',\n",
       " 'James',\n",
       " 'James',\n",
       " 'James',\n",
       " 'James',\n",
       " 'James',\n",
       " 'James']"
      ]
     },
     "execution_count": 50,
     "metadata": {},
     "output_type": "execute_result"
    }
   ],
   "source": [
    "friends"
   ]
  },
  {
   "cell_type": "code",
   "execution_count": 51,
   "id": "0a9b4006",
   "metadata": {},
   "outputs": [],
   "source": [
    "friends.reverse()"
   ]
  },
  {
   "cell_type": "code",
   "execution_count": 52,
   "id": "39331ff7",
   "metadata": {},
   "outputs": [
    {
     "data": {
      "text/plain": [
       "['James',\n",
       " 'James',\n",
       " 'James',\n",
       " 'James',\n",
       " 'James',\n",
       " 'James',\n",
       " 'John',\n",
       " 'Zeke',\n",
       " 'cha',\n",
       " 'cha']"
      ]
     },
     "execution_count": 52,
     "metadata": {},
     "output_type": "execute_result"
    }
   ],
   "source": [
    "friends"
   ]
  },
  {
   "cell_type": "code",
   "execution_count": 53,
   "id": "119a6cb4",
   "metadata": {},
   "outputs": [
    {
     "data": {
      "text/plain": [
       "'cha'"
      ]
     },
     "execution_count": 53,
     "metadata": {},
     "output_type": "execute_result"
    }
   ],
   "source": [
    "friends.pop()"
   ]
  },
  {
   "cell_type": "code",
   "execution_count": 54,
   "id": "c79ffaed",
   "metadata": {},
   "outputs": [],
   "source": [
    "friends.insert(1, \"Cha\")"
   ]
  },
  {
   "cell_type": "code",
   "execution_count": 55,
   "id": "b692aa3d",
   "metadata": {},
   "outputs": [
    {
     "data": {
      "text/plain": [
       "['James',\n",
       " 'Cha',\n",
       " 'James',\n",
       " 'James',\n",
       " 'James',\n",
       " 'James',\n",
       " 'James',\n",
       " 'John',\n",
       " 'Zeke',\n",
       " 'cha']"
      ]
     },
     "execution_count": 55,
     "metadata": {},
     "output_type": "execute_result"
    }
   ],
   "source": [
    "friends"
   ]
  },
  {
   "cell_type": "code",
   "execution_count": 56,
   "id": "6bf9b6f0",
   "metadata": {},
   "outputs": [],
   "source": [
    "friends.sort()"
   ]
  },
  {
   "cell_type": "code",
   "execution_count": 57,
   "id": "ee1a5698",
   "metadata": {},
   "outputs": [
    {
     "data": {
      "text/plain": [
       "['Cha',\n",
       " 'James',\n",
       " 'James',\n",
       " 'James',\n",
       " 'James',\n",
       " 'James',\n",
       " 'James',\n",
       " 'John',\n",
       " 'Zeke',\n",
       " 'cha']"
      ]
     },
     "execution_count": 57,
     "metadata": {},
     "output_type": "execute_result"
    }
   ],
   "source": [
    "friends"
   ]
  },
  {
   "cell_type": "code",
   "execution_count": 58,
   "id": "e00efe5c",
   "metadata": {},
   "outputs": [],
   "source": [
    "coordiantes = (4,5)"
   ]
  },
  {
   "cell_type": "code",
   "execution_count": 59,
   "id": "9642ec6b",
   "metadata": {},
   "outputs": [
    {
     "data": {
      "text/plain": [
       "(4, 5)"
      ]
     },
     "execution_count": 59,
     "metadata": {},
     "output_type": "execute_result"
    }
   ],
   "source": [
    "coordiantes"
   ]
  },
  {
   "cell_type": "code",
   "execution_count": 60,
   "id": "ff3bc1eb",
   "metadata": {},
   "outputs": [],
   "source": [
    "name = \"James\""
   ]
  },
  {
   "cell_type": "code",
   "execution_count": 61,
   "id": "340332fe",
   "metadata": {},
   "outputs": [
    {
     "data": {
      "text/plain": [
       "'a'"
      ]
     },
     "execution_count": 61,
     "metadata": {},
     "output_type": "execute_result"
    }
   ],
   "source": [
    "name[1]"
   ]
  },
  {
   "cell_type": "code",
   "execution_count": 62,
   "id": "566d3e0c",
   "metadata": {},
   "outputs": [
    {
     "data": {
      "text/plain": [
       "'m'"
      ]
     },
     "execution_count": 62,
     "metadata": {},
     "output_type": "execute_result"
    }
   ],
   "source": [
    "name[2]"
   ]
  },
  {
   "cell_type": "code",
   "execution_count": 63,
   "id": "1078a7bf",
   "metadata": {},
   "outputs": [],
   "source": [
    "def say_hi(name, age):\n",
    "    print(\"hi \" + name)\n",
    "    print(\"you are \" + age)"
   ]
  },
  {
   "cell_type": "code",
   "execution_count": 64,
   "id": "6805ae9e",
   "metadata": {},
   "outputs": [
    {
     "name": "stdout",
     "output_type": "stream",
     "text": [
      "hi James\n",
      "you are 25\n"
     ]
    }
   ],
   "source": [
    "say_hi(\"James\", \"25\")"
   ]
  },
  {
   "cell_type": "code",
   "execution_count": 65,
   "id": "ba987bd6",
   "metadata": {},
   "outputs": [],
   "source": [
    "def cube(num):\n",
    "    number = pow(num, 3)\n",
    "    return number"
   ]
  },
  {
   "cell_type": "code",
   "execution_count": 66,
   "id": "1b269dab",
   "metadata": {},
   "outputs": [
    {
     "data": {
      "text/plain": [
       "27"
      ]
     },
     "execution_count": 66,
     "metadata": {},
     "output_type": "execute_result"
    }
   ],
   "source": [
    "cube(3)"
   ]
  },
  {
   "cell_type": "code",
   "execution_count": 67,
   "id": "58c35af2",
   "metadata": {},
   "outputs": [
    {
     "name": "stdout",
     "output_type": "stream",
     "text": [
      "You are not a male but tall\n"
     ]
    }
   ],
   "source": [
    "is_male = False\n",
    "is_tall = True\n",
    "if is_male and is_tall:\n",
    "    print(\"You are a male and tall\")\n",
    "elif is_male and not is_tall:\n",
    "    print(\"You are a male but not tall\")\n",
    "elif not is_male and not is_tall:\n",
    "    print(\"you are not a male and not tall\")\n",
    "else:\n",
    "    print(\"You are not a male but tall\")"
   ]
  },
  {
   "cell_type": "code",
   "execution_count": 68,
   "id": "a334cb7b",
   "metadata": {},
   "outputs": [
    {
     "name": "stdout",
     "output_type": "stream",
     "text": [
      "January\n"
     ]
    }
   ],
   "source": [
    "monthConversions = {\n",
    "    \"Jan\" : \"January\",\n",
    "    \"Feb\" : \"Febuary\"\n",
    "}\n",
    "\n",
    "print(monthConversions.get(\"Jan\"))"
   ]
  },
  {
   "cell_type": "code",
   "execution_count": 69,
   "id": "a72ca2d2",
   "metadata": {},
   "outputs": [
    {
     "name": "stdout",
     "output_type": "stream",
     "text": [
      "Enter\n",
      "Enter\n",
      "Enter\n",
      "You are out of guesses, you lose\n"
     ]
    }
   ],
   "source": [
    "word = \"James\"\n",
    "guess = \"\"\n",
    "num_of_guesses = 3\n",
    "current_guess_count = 0\n",
    "out_of_guesses = False\n",
    "\n",
    "while guess != word and not out_of_guesses:\n",
    "    if current_guess_count < num_of_guesses:\n",
    "        guess = input(\"Enter\")\n",
    "        current_guess_count+=1\n",
    "    else:\n",
    "        out_of_guesses = True\n",
    "if out_of_guesses:\n",
    "    print(\"You are out of guesses, you lose\")\n",
    "else:     \n",
    "    print(\"You win!\")"
   ]
  },
  {
   "cell_type": "code",
   "execution_count": 70,
   "id": "7b39bffc",
   "metadata": {},
   "outputs": [
    {
     "name": "stdout",
     "output_type": "stream",
     "text": [
      "cat 3\n",
      "window 6\n",
      "defenstrate 11\n"
     ]
    }
   ],
   "source": [
    "words = ['cat', 'window', 'defenstrate']\n",
    "for i in words:\n",
    "    print(i, len(i))"
   ]
  },
  {
   "cell_type": "code",
   "execution_count": 71,
   "id": "451a8497",
   "metadata": {},
   "outputs": [],
   "source": [
    "users = {'James': 'male', 'Victoria': 'female'}\n",
    "for user, status in users.copy().items():\n",
    "    if status == 'male':\n",
    "        del users[user]\n",
    "active_users = {}\n",
    "for user, status in users.items():\n",
    "    if status == 'male':\n",
    "        active_users[user] = status"
   ]
  },
  {
   "cell_type": "code",
   "execution_count": 72,
   "id": "bebe2dc6",
   "metadata": {},
   "outputs": [],
   "source": [
    "bodybuilding = {'leg press': 'legs', 'Bench press': 'Chest', 'Barbell Rows': 'Back'}"
   ]
  },
  {
   "cell_type": "code",
   "execution_count": 73,
   "id": "b668ae65",
   "metadata": {},
   "outputs": [
    {
     "name": "stdout",
     "output_type": "stream",
     "text": [
      "leg press legs\n"
     ]
    }
   ],
   "source": [
    "for workout, bodypart in bodybuilding.copy().items():\n",
    "    if bodypart == 'legs':\n",
    "        print(workout, bodypart)"
   ]
  },
  {
   "cell_type": "code",
   "execution_count": null,
   "id": "45602150",
   "metadata": {},
   "outputs": [],
   "source": []
  },
  {
   "cell_type": "code",
   "execution_count": 74,
   "id": "72a92904",
   "metadata": {},
   "outputs": [
    {
     "name": "stdout",
     "output_type": "stream",
     "text": [
      "0\n",
      "1\n",
      "2\n",
      "3\n",
      "4\n"
     ]
    }
   ],
   "source": [
    "for i in range(5):\n",
    "    print(i)"
   ]
  },
  {
   "cell_type": "code",
   "execution_count": 75,
   "id": "4d6d6672",
   "metadata": {},
   "outputs": [
    {
     "name": "stdout",
     "output_type": "stream",
     "text": [
      "5\n",
      "6\n",
      "7\n",
      "8\n",
      "9\n"
     ]
    }
   ],
   "source": [
    "for i in range(5,10):\n",
    "    print(i)"
   ]
  },
  {
   "cell_type": "code",
   "execution_count": 76,
   "id": "0ba1080c",
   "metadata": {},
   "outputs": [
    {
     "name": "stdout",
     "output_type": "stream",
     "text": [
      "0 James\n",
      "1 Victoria\n",
      "2 Cha\n",
      "3 SJ\n",
      "4 Zeke\n"
     ]
    }
   ],
   "source": [
    "names = ['James', 'Victoria', 'Cha', 'SJ', 'Zeke']\n",
    "for i in range(len(names)):\n",
    "    print(i, names[i])"
   ]
  },
  {
   "cell_type": "code",
   "execution_count": 77,
   "id": "8cb1be92",
   "metadata": {},
   "outputs": [
    {
     "name": "stdout",
     "output_type": "stream",
     "text": [
      "2 is a prime number\n",
      "3 is a prime number\n",
      "4 equals 2 * 2\n",
      "5 is a prime number\n",
      "6 equals 2 * 3\n",
      "7 is a prime number\n",
      "8 equals 2 * 4\n",
      "9 equals 3 * 3\n"
     ]
    }
   ],
   "source": [
    "for n in range(2, 10):\n",
    "    for x in range(2, n):\n",
    "        if n % x == 0:\n",
    "            print(n, 'equals', x, '*', n//x)\n",
    "            break\n",
    "    else:\n",
    "        print(n, 'is a prime number')"
   ]
  },
  {
   "cell_type": "code",
   "execution_count": 78,
   "id": "64e6000b",
   "metadata": {},
   "outputs": [
    {
     "name": "stdout",
     "output_type": "stream",
     "text": [
      "2 is an even number\n",
      "3 is an odd number\n",
      "4 is an even number\n",
      "5 is an odd number\n",
      "6 is an even number\n",
      "7 is an odd number\n",
      "8 is an even number\n",
      "9 is an odd number\n"
     ]
    }
   ],
   "source": [
    "for n in range(2, 10):\n",
    "    if n%2==0:\n",
    "        print(n, \"is an even number\")\n",
    "        continue\n",
    "    else:\n",
    "        print(n, \"is an odd number\")"
   ]
  },
  {
   "cell_type": "code",
   "execution_count": 79,
   "id": "f469a2ad",
   "metadata": {},
   "outputs": [],
   "source": [
    "from enum import Enum\n"
   ]
  },
  {
   "cell_type": "code",
   "execution_count": 89,
   "id": "4bcf8596",
   "metadata": {},
   "outputs": [
    {
     "name": "stdout",
     "output_type": "stream",
     "text": [
      "Enter your choice of 'red', 'blue' or 'green': green\n",
      "green\n"
     ]
    }
   ],
   "source": [
    "class Color(Enum):\n",
    "    RED = 'red'\n",
    "    GREEN = 'green'\n",
    "    BLUE = 'blue'\n",
    "    \n",
    "color = Color(input(\"Enter your choice of 'red', 'blue' or 'green': \"))\n",
    "\n",
    "match color:\n",
    "    case Color.RED:\n",
    "        print(\"red\")\n",
    "    case Color.GREEN:\n",
    "        print(\"green\")\n",
    "    case Color.BLUE:\n",
    "        print(\"blue\")"
   ]
  },
  {
   "cell_type": "code",
   "execution_count": null,
   "id": "4575497f",
   "metadata": {},
   "outputs": [],
   "source": []
  },
  {
   "cell_type": "code",
   "execution_count": null,
   "id": "090a41bd",
   "metadata": {},
   "outputs": [],
   "source": []
  },
  {
   "cell_type": "code",
   "execution_count": null,
   "id": "86a4730c",
   "metadata": {},
   "outputs": [],
   "source": []
  },
  {
   "cell_type": "code",
   "execution_count": null,
   "id": "7ffdea9f",
   "metadata": {},
   "outputs": [],
   "source": []
  },
  {
   "cell_type": "code",
   "execution_count": null,
   "id": "46c8302b",
   "metadata": {},
   "outputs": [],
   "source": []
  },
  {
   "cell_type": "code",
   "execution_count": 88,
   "id": "8a9f8ce1",
   "metadata": {},
   "outputs": [
    {
     "name": "stdout",
     "output_type": "stream",
     "text": [
      "Enter your choice of 'red', 'blue' or 'green': green\n",
      "Grass is green\n"
     ]
    }
   ],
   "source": [
    "from enum import Enum\n",
    "class Color(Enum):\n",
    "    RED = 'red'\n",
    "    GREEN = 'green'\n",
    "    BLUE = 'blue'\n",
    "\n",
    "color = Color(input(\"Enter your choice of 'red', 'blue' or 'green': \"))\n",
    "\n",
    "match color:\n",
    "    case Color.RED:\n",
    "        print(\"I see red!\")\n",
    "    case Color.GREEN:\n",
    "        print(\"Grass is green\")\n",
    "    case Color.BLUE:\n",
    "        print(\"I'm feeling the blues :(\")"
   ]
  },
  {
   "cell_type": "code",
   "execution_count": null,
   "id": "32b99e08",
   "metadata": {},
   "outputs": [],
   "source": []
  },
  {
   "cell_type": "code",
   "execution_count": null,
   "id": "7ad1cd54",
   "metadata": {},
   "outputs": [],
   "source": []
  },
  {
   "cell_type": "code",
   "execution_count": null,
   "id": "433e32e0",
   "metadata": {},
   "outputs": [],
   "source": []
  },
  {
   "cell_type": "code",
   "execution_count": null,
   "id": "b01f00ce",
   "metadata": {},
   "outputs": [],
   "source": []
  },
  {
   "cell_type": "code",
   "execution_count": null,
   "id": "a8ae31f5",
   "metadata": {},
   "outputs": [],
   "source": []
  },
  {
   "cell_type": "code",
   "execution_count": null,
   "id": "0da1f533",
   "metadata": {},
   "outputs": [],
   "source": []
  },
  {
   "cell_type": "code",
   "execution_count": null,
   "id": "d237ea21",
   "metadata": {},
   "outputs": [],
   "source": []
  },
  {
   "cell_type": "code",
   "execution_count": null,
   "id": "a3c14c21",
   "metadata": {},
   "outputs": [],
   "source": []
  },
  {
   "cell_type": "code",
   "execution_count": null,
   "id": "bc9f2635",
   "metadata": {},
   "outputs": [],
   "source": []
  },
  {
   "cell_type": "code",
   "execution_count": null,
   "id": "9a75d9cb",
   "metadata": {},
   "outputs": [],
   "source": []
  },
  {
   "cell_type": "code",
   "execution_count": null,
   "id": "3ddeac8a",
   "metadata": {},
   "outputs": [],
   "source": []
  },
  {
   "cell_type": "code",
   "execution_count": null,
   "id": "1b3f9d5e",
   "metadata": {},
   "outputs": [],
   "source": []
  },
  {
   "cell_type": "code",
   "execution_count": null,
   "id": "b21cf9ac",
   "metadata": {},
   "outputs": [],
   "source": []
  },
  {
   "cell_type": "code",
   "execution_count": null,
   "id": "1c49bd81",
   "metadata": {},
   "outputs": [],
   "source": []
  },
  {
   "cell_type": "code",
   "execution_count": null,
   "id": "9ed27e53",
   "metadata": {},
   "outputs": [],
   "source": []
  },
  {
   "cell_type": "code",
   "execution_count": null,
   "id": "f679e039",
   "metadata": {},
   "outputs": [],
   "source": []
  },
  {
   "cell_type": "code",
   "execution_count": null,
   "id": "392b31e2",
   "metadata": {},
   "outputs": [],
   "source": []
  },
  {
   "cell_type": "code",
   "execution_count": null,
   "id": "8cc3fea5",
   "metadata": {},
   "outputs": [],
   "source": []
  },
  {
   "cell_type": "code",
   "execution_count": null,
   "id": "efd7386f",
   "metadata": {},
   "outputs": [],
   "source": []
  },
  {
   "cell_type": "code",
   "execution_count": null,
   "id": "e90688aa",
   "metadata": {},
   "outputs": [],
   "source": []
  },
  {
   "cell_type": "code",
   "execution_count": null,
   "id": "39e8638f",
   "metadata": {},
   "outputs": [],
   "source": []
  },
  {
   "cell_type": "code",
   "execution_count": null,
   "id": "b9bf742b",
   "metadata": {},
   "outputs": [],
   "source": []
  },
  {
   "cell_type": "code",
   "execution_count": null,
   "id": "ca4eda35",
   "metadata": {},
   "outputs": [],
   "source": []
  },
  {
   "cell_type": "code",
   "execution_count": null,
   "id": "72882e7e",
   "metadata": {},
   "outputs": [],
   "source": []
  },
  {
   "cell_type": "code",
   "execution_count": null,
   "id": "2abb7e5c",
   "metadata": {},
   "outputs": [],
   "source": []
  },
  {
   "cell_type": "code",
   "execution_count": null,
   "id": "673fdff0",
   "metadata": {},
   "outputs": [],
   "source": []
  },
  {
   "cell_type": "code",
   "execution_count": null,
   "id": "23130d41",
   "metadata": {},
   "outputs": [],
   "source": []
  },
  {
   "cell_type": "code",
   "execution_count": null,
   "id": "f1cd7985",
   "metadata": {},
   "outputs": [],
   "source": []
  },
  {
   "cell_type": "code",
   "execution_count": null,
   "id": "8659fdae",
   "metadata": {},
   "outputs": [],
   "source": []
  },
  {
   "cell_type": "code",
   "execution_count": null,
   "id": "190247bd",
   "metadata": {},
   "outputs": [],
   "source": []
  },
  {
   "cell_type": "code",
   "execution_count": null,
   "id": "b230de1a",
   "metadata": {},
   "outputs": [],
   "source": []
  },
  {
   "cell_type": "code",
   "execution_count": null,
   "id": "56835777",
   "metadata": {},
   "outputs": [],
   "source": []
  },
  {
   "cell_type": "code",
   "execution_count": null,
   "id": "26c719f0",
   "metadata": {},
   "outputs": [],
   "source": []
  },
  {
   "cell_type": "code",
   "execution_count": null,
   "id": "01f39ccd",
   "metadata": {},
   "outputs": [],
   "source": []
  },
  {
   "cell_type": "code",
   "execution_count": null,
   "id": "a8ada9f0",
   "metadata": {},
   "outputs": [],
   "source": []
  },
  {
   "cell_type": "code",
   "execution_count": null,
   "id": "0b003ff3",
   "metadata": {},
   "outputs": [],
   "source": []
  },
  {
   "cell_type": "code",
   "execution_count": null,
   "id": "e75453bc",
   "metadata": {},
   "outputs": [],
   "source": []
  },
  {
   "cell_type": "code",
   "execution_count": null,
   "id": "76291e56",
   "metadata": {},
   "outputs": [],
   "source": []
  },
  {
   "cell_type": "code",
   "execution_count": null,
   "id": "65c86769",
   "metadata": {},
   "outputs": [],
   "source": []
  },
  {
   "cell_type": "code",
   "execution_count": null,
   "id": "eb715566",
   "metadata": {},
   "outputs": [],
   "source": []
  },
  {
   "cell_type": "code",
   "execution_count": null,
   "id": "4c9429f4",
   "metadata": {},
   "outputs": [],
   "source": []
  },
  {
   "cell_type": "code",
   "execution_count": null,
   "id": "850a6b09",
   "metadata": {},
   "outputs": [],
   "source": []
  },
  {
   "cell_type": "code",
   "execution_count": null,
   "id": "ad765e7d",
   "metadata": {},
   "outputs": [],
   "source": []
  },
  {
   "cell_type": "code",
   "execution_count": null,
   "id": "b3e1b08a",
   "metadata": {},
   "outputs": [],
   "source": []
  },
  {
   "cell_type": "code",
   "execution_count": null,
   "id": "085921ed",
   "metadata": {},
   "outputs": [],
   "source": []
  },
  {
   "cell_type": "code",
   "execution_count": null,
   "id": "f7e683da",
   "metadata": {},
   "outputs": [],
   "source": []
  },
  {
   "cell_type": "code",
   "execution_count": null,
   "id": "d5952c5a",
   "metadata": {},
   "outputs": [],
   "source": []
  },
  {
   "cell_type": "code",
   "execution_count": null,
   "id": "512ef6c6",
   "metadata": {},
   "outputs": [],
   "source": []
  },
  {
   "cell_type": "code",
   "execution_count": null,
   "id": "ee52f036",
   "metadata": {},
   "outputs": [],
   "source": []
  },
  {
   "cell_type": "code",
   "execution_count": null,
   "id": "d48ee531",
   "metadata": {},
   "outputs": [],
   "source": []
  },
  {
   "cell_type": "code",
   "execution_count": null,
   "id": "0535d177",
   "metadata": {},
   "outputs": [],
   "source": []
  },
  {
   "cell_type": "code",
   "execution_count": null,
   "id": "930a3cd4",
   "metadata": {},
   "outputs": [],
   "source": []
  },
  {
   "cell_type": "code",
   "execution_count": null,
   "id": "6efb7153",
   "metadata": {},
   "outputs": [],
   "source": []
  },
  {
   "cell_type": "code",
   "execution_count": null,
   "id": "b30fb80b",
   "metadata": {},
   "outputs": [],
   "source": []
  },
  {
   "cell_type": "code",
   "execution_count": null,
   "id": "1fe68da7",
   "metadata": {},
   "outputs": [],
   "source": []
  },
  {
   "cell_type": "code",
   "execution_count": null,
   "id": "3c95ba28",
   "metadata": {},
   "outputs": [],
   "source": []
  },
  {
   "cell_type": "code",
   "execution_count": null,
   "id": "698ff9e8",
   "metadata": {},
   "outputs": [],
   "source": []
  },
  {
   "cell_type": "code",
   "execution_count": null,
   "id": "472b5d2f",
   "metadata": {},
   "outputs": [],
   "source": []
  },
  {
   "cell_type": "code",
   "execution_count": null,
   "id": "ef82b02f",
   "metadata": {},
   "outputs": [],
   "source": []
  },
  {
   "cell_type": "code",
   "execution_count": null,
   "id": "a229d1db",
   "metadata": {},
   "outputs": [],
   "source": []
  },
  {
   "cell_type": "code",
   "execution_count": null,
   "id": "0d294346",
   "metadata": {},
   "outputs": [],
   "source": []
  },
  {
   "cell_type": "code",
   "execution_count": null,
   "id": "b1ce435c",
   "metadata": {},
   "outputs": [],
   "source": []
  },
  {
   "cell_type": "code",
   "execution_count": null,
   "id": "b5f4af93",
   "metadata": {},
   "outputs": [],
   "source": []
  },
  {
   "cell_type": "code",
   "execution_count": null,
   "id": "7f0d3767",
   "metadata": {},
   "outputs": [],
   "source": []
  },
  {
   "cell_type": "code",
   "execution_count": null,
   "id": "98803d50",
   "metadata": {},
   "outputs": [],
   "source": []
  },
  {
   "cell_type": "code",
   "execution_count": null,
   "id": "4ff81ffd",
   "metadata": {},
   "outputs": [],
   "source": []
  },
  {
   "cell_type": "code",
   "execution_count": null,
   "id": "6cbe1495",
   "metadata": {},
   "outputs": [],
   "source": []
  },
  {
   "cell_type": "code",
   "execution_count": null,
   "id": "649e9192",
   "metadata": {},
   "outputs": [],
   "source": []
  },
  {
   "cell_type": "code",
   "execution_count": null,
   "id": "4050486d",
   "metadata": {},
   "outputs": [],
   "source": []
  },
  {
   "cell_type": "code",
   "execution_count": null,
   "id": "6a07a96b",
   "metadata": {},
   "outputs": [],
   "source": []
  },
  {
   "cell_type": "code",
   "execution_count": null,
   "id": "da0fd19b",
   "metadata": {},
   "outputs": [],
   "source": []
  },
  {
   "cell_type": "code",
   "execution_count": null,
   "id": "aa309390",
   "metadata": {},
   "outputs": [],
   "source": []
  },
  {
   "cell_type": "code",
   "execution_count": null,
   "id": "c07a63a5",
   "metadata": {},
   "outputs": [],
   "source": []
  },
  {
   "cell_type": "code",
   "execution_count": null,
   "id": "70a4620f",
   "metadata": {},
   "outputs": [],
   "source": []
  },
  {
   "cell_type": "code",
   "execution_count": null,
   "id": "6e8c12d8",
   "metadata": {},
   "outputs": [],
   "source": []
  },
  {
   "cell_type": "code",
   "execution_count": null,
   "id": "113da602",
   "metadata": {},
   "outputs": [],
   "source": []
  }
 ],
 "metadata": {
  "kernelspec": {
   "display_name": "Python 3 (ipykernel)",
   "language": "python",
   "name": "python3"
  },
  "language_info": {
   "codemirror_mode": {
    "name": "ipython",
    "version": 3
   },
   "file_extension": ".py",
   "mimetype": "text/x-python",
   "name": "python",
   "nbconvert_exporter": "python",
   "pygments_lexer": "ipython3",
   "version": "3.10.4"
  }
 },
 "nbformat": 4,
 "nbformat_minor": 5
}
